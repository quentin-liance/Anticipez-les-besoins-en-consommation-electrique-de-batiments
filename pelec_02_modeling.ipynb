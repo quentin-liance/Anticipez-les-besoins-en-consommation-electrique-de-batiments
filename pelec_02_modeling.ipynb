{
 "cells": [
  {
   "cell_type": "code",
   "execution_count": 156,
   "metadata": {},
   "outputs": [],
   "source": [
    "import pandas as pd\n",
    "import numpy as np\n",
    "from sklearn.pipeline import Pipeline, make_pipeline\n",
    "from sklearn.model_selection import train_test_split\n",
    "from sklearn.impute import SimpleImputer\n",
    "from sklearn.preprocessing import StandardScaler, OneHotEncoder, PolynomialFeatures\n",
    "from sklearn.linear_model import LinearRegression, Lasso\n",
    "from sklearn.model_selection import cross_validate, GridSearchCV, RandomizedSearchCV, cross_val_predict\n",
    "from sklearn.compose import ColumnTransformer, make_column_transformer\n",
    "from category_encoders import CountEncoder, LeaveOneOutEncoder, TargetEncoder\n",
    "from sklearn.ensemble import RandomForestRegressor, GradientBoostingRegressor\n",
    "from sklearn.feature_selection import SelectKBest, f_regression, mutual_info_regression\n",
    "from sklearn.neighbors import KNeighborsRegressor\n",
    "from sklearn import set_config\n",
    "from sklearn.svm import SVR\n",
    "import matplotlib.pyplot as plt\n",
    "set_config(display='diagram')"
   ]
  },
  {
   "cell_type": "code",
   "execution_count": 2,
   "metadata": {},
   "outputs": [],
   "source": [
    "df = pd.read_csv('dataset.csv', index_col=0)\n",
    "#df = df.drop('PropertyName', axis=1)\n",
    "\n",
    "cat_attribs = ['BuildingType', 'PrimaryPropertyType','CouncilDistrictCode',\n",
    "               'Neighborhood', 'ListOfAllPropertyUseTypes',\n",
    "               'LargestPropertyUseType', 'PropertyName']\n",
    "\n",
    "num_attribs = ['YearBuilt', 'NumberofBuildings', 'NumberofFloors',\n",
    "               'PropertyGFAParking', 'PropertyGFABuilding(s)',\n",
    "               'LargestPropertyUseTypeGFA', 'Latitude', 'Longitude',\n",
    "               'ENERGYSTARScore']\n",
    "\n",
    "y = 'TotalGHGEmissions'\n",
    "\n",
    "# Création d'un jeu d'entraînement et d'un jeu de test\n",
    "train, test = train_test_split(df, test_size=0.3, random_state=42)\n",
    "X_train = train[cat_attribs + num_attribs]\n",
    "y_train = train[y].values"
   ]
  },
  {
   "cell_type": "markdown",
   "metadata": {},
   "source": [
    "# 1. Régression linéaire"
   ]
  },
  {
   "cell_type": "code",
   "execution_count": 3,
   "metadata": {},
   "outputs": [
    {
     "data": {
      "text/html": [
       "<style>#sk-f1ff01c0-660a-4638-8e99-9e807694a989 {color: black;background-color: white;}#sk-f1ff01c0-660a-4638-8e99-9e807694a989 pre{padding: 0;}#sk-f1ff01c0-660a-4638-8e99-9e807694a989 div.sk-toggleable {background-color: white;}#sk-f1ff01c0-660a-4638-8e99-9e807694a989 label.sk-toggleable__label {cursor: pointer;display: block;width: 100%;margin-bottom: 0;padding: 0.2em 0.3em;box-sizing: border-box;text-align: center;}#sk-f1ff01c0-660a-4638-8e99-9e807694a989 div.sk-toggleable__content {max-height: 0;max-width: 0;overflow: hidden;text-align: left;background-color: #f0f8ff;}#sk-f1ff01c0-660a-4638-8e99-9e807694a989 div.sk-toggleable__content pre {margin: 0.2em;color: black;border-radius: 0.25em;background-color: #f0f8ff;}#sk-f1ff01c0-660a-4638-8e99-9e807694a989 input.sk-toggleable__control:checked~div.sk-toggleable__content {max-height: 200px;max-width: 100%;overflow: auto;}#sk-f1ff01c0-660a-4638-8e99-9e807694a989 div.sk-estimator input.sk-toggleable__control:checked~label.sk-toggleable__label {background-color: #d4ebff;}#sk-f1ff01c0-660a-4638-8e99-9e807694a989 div.sk-label input.sk-toggleable__control:checked~label.sk-toggleable__label {background-color: #d4ebff;}#sk-f1ff01c0-660a-4638-8e99-9e807694a989 input.sk-hidden--visually {border: 0;clip: rect(1px 1px 1px 1px);clip: rect(1px, 1px, 1px, 1px);height: 1px;margin: -1px;overflow: hidden;padding: 0;position: absolute;width: 1px;}#sk-f1ff01c0-660a-4638-8e99-9e807694a989 div.sk-estimator {font-family: monospace;background-color: #f0f8ff;margin: 0.25em 0.25em;border: 1px dotted black;border-radius: 0.25em;box-sizing: border-box;}#sk-f1ff01c0-660a-4638-8e99-9e807694a989 div.sk-estimator:hover {background-color: #d4ebff;}#sk-f1ff01c0-660a-4638-8e99-9e807694a989 div.sk-parallel-item::after {content: \"\";width: 100%;border-bottom: 1px solid gray;flex-grow: 1;}#sk-f1ff01c0-660a-4638-8e99-9e807694a989 div.sk-label:hover label.sk-toggleable__label {background-color: #d4ebff;}#sk-f1ff01c0-660a-4638-8e99-9e807694a989 div.sk-serial::before {content: \"\";position: absolute;border-left: 1px solid gray;box-sizing: border-box;top: 2em;bottom: 0;left: 50%;}#sk-f1ff01c0-660a-4638-8e99-9e807694a989 div.sk-serial {display: flex;flex-direction: column;align-items: center;background-color: white;}#sk-f1ff01c0-660a-4638-8e99-9e807694a989 div.sk-item {z-index: 1;}#sk-f1ff01c0-660a-4638-8e99-9e807694a989 div.sk-parallel {display: flex;align-items: stretch;justify-content: center;background-color: white;}#sk-f1ff01c0-660a-4638-8e99-9e807694a989 div.sk-parallel-item {display: flex;flex-direction: column;position: relative;background-color: white;}#sk-f1ff01c0-660a-4638-8e99-9e807694a989 div.sk-parallel-item:first-child::after {align-self: flex-end;width: 50%;}#sk-f1ff01c0-660a-4638-8e99-9e807694a989 div.sk-parallel-item:last-child::after {align-self: flex-start;width: 50%;}#sk-f1ff01c0-660a-4638-8e99-9e807694a989 div.sk-parallel-item:only-child::after {width: 0;}#sk-f1ff01c0-660a-4638-8e99-9e807694a989 div.sk-dashed-wrapped {border: 1px dashed gray;margin: 0.2em;box-sizing: border-box;padding-bottom: 0.1em;background-color: white;position: relative;}#sk-f1ff01c0-660a-4638-8e99-9e807694a989 div.sk-label label {font-family: monospace;font-weight: bold;background-color: white;display: inline-block;line-height: 1.2em;}#sk-f1ff01c0-660a-4638-8e99-9e807694a989 div.sk-label-container {position: relative;z-index: 2;text-align: center;}#sk-f1ff01c0-660a-4638-8e99-9e807694a989 div.sk-container {display: inline-block;position: relative;}</style><div id=\"sk-f1ff01c0-660a-4638-8e99-9e807694a989\" class\"sk-top-container\"><div class=\"sk-container\"><div class=\"sk-item sk-dashed-wrapped\"><div class=\"sk-label-container\"><div class=\"sk-label sk-toggleable\"><input class=\"sk-toggleable__control sk-hidden--visually\" id=\"85b8ad43-2170-445d-ae42-01d738895d8b\" type=\"checkbox\" ><label class=\"sk-toggleable__label\" for=\"85b8ad43-2170-445d-ae42-01d738895d8b\">ColumnTransformer</label><div class=\"sk-toggleable__content\"><pre>ColumnTransformer(transformers=[('num',\n",
       "                                 Pipeline(steps=[('imputer',\n",
       "                                                  SimpleImputer(strategy='median')),\n",
       "                                                 ('std_scaler',\n",
       "                                                  StandardScaler())]),\n",
       "                                 ['YearBuilt', 'NumberofBuildings',\n",
       "                                  'NumberofFloors', 'PropertyGFAParking',\n",
       "                                  'PropertyGFABuilding(s)',\n",
       "                                  'LargestPropertyUseTypeGFA', 'Latitude',\n",
       "                                  'Longitude', 'ENERGYSTARScore']),\n",
       "                                ('cat',\n",
       "                                 Pipeline(steps=[('imputer',\n",
       "                                                  SimpleImputer(strategy='most_frequent')),\n",
       "                                                 ('ohe', OneHotEncoder())]),\n",
       "                                 ['BuildingType', 'PrimaryPropertyType',\n",
       "                                  'CouncilDistrictCode', 'Neighborhood',\n",
       "                                  'ListOfAllPropertyUseTypes',\n",
       "                                  'LargestPropertyUseType', 'PropertyName'])])</pre></div></div></div><div class=\"sk-parallel\"><div class=\"sk-parallel-item\"><div class=\"sk-item\"><div class=\"sk-label-container\"><div class=\"sk-label sk-toggleable\"><input class=\"sk-toggleable__control sk-hidden--visually\" id=\"ba2f63c7-dc84-4b30-815a-d9ea3155ff15\" type=\"checkbox\" ><label class=\"sk-toggleable__label\" for=\"ba2f63c7-dc84-4b30-815a-d9ea3155ff15\">num</label><div class=\"sk-toggleable__content\"><pre>['YearBuilt', 'NumberofBuildings', 'NumberofFloors', 'PropertyGFAParking', 'PropertyGFABuilding(s)', 'LargestPropertyUseTypeGFA', 'Latitude', 'Longitude', 'ENERGYSTARScore']</pre></div></div></div><div class=\"sk-serial\"><div class=\"sk-item\"><div class=\"sk-serial\"><div class=\"sk-item\"><div class=\"sk-estimator sk-toggleable\"><input class=\"sk-toggleable__control sk-hidden--visually\" id=\"db53cc97-e77f-4c8c-a500-31f97ebdb246\" type=\"checkbox\" ><label class=\"sk-toggleable__label\" for=\"db53cc97-e77f-4c8c-a500-31f97ebdb246\">SimpleImputer</label><div class=\"sk-toggleable__content\"><pre>SimpleImputer(strategy='median')</pre></div></div></div><div class=\"sk-item\"><div class=\"sk-estimator sk-toggleable\"><input class=\"sk-toggleable__control sk-hidden--visually\" id=\"52d0b2fb-811c-4d92-8226-e9e272b8046f\" type=\"checkbox\" ><label class=\"sk-toggleable__label\" for=\"52d0b2fb-811c-4d92-8226-e9e272b8046f\">StandardScaler</label><div class=\"sk-toggleable__content\"><pre>StandardScaler()</pre></div></div></div></div></div></div></div></div><div class=\"sk-parallel-item\"><div class=\"sk-item\"><div class=\"sk-label-container\"><div class=\"sk-label sk-toggleable\"><input class=\"sk-toggleable__control sk-hidden--visually\" id=\"3119ac88-6c59-4fab-87cd-c4a819afda41\" type=\"checkbox\" ><label class=\"sk-toggleable__label\" for=\"3119ac88-6c59-4fab-87cd-c4a819afda41\">cat</label><div class=\"sk-toggleable__content\"><pre>['BuildingType', 'PrimaryPropertyType', 'CouncilDistrictCode', 'Neighborhood', 'ListOfAllPropertyUseTypes', 'LargestPropertyUseType', 'PropertyName']</pre></div></div></div><div class=\"sk-serial\"><div class=\"sk-item\"><div class=\"sk-serial\"><div class=\"sk-item\"><div class=\"sk-estimator sk-toggleable\"><input class=\"sk-toggleable__control sk-hidden--visually\" id=\"db6e4fb7-db5b-4f2b-9a25-84ec3f825a5c\" type=\"checkbox\" ><label class=\"sk-toggleable__label\" for=\"db6e4fb7-db5b-4f2b-9a25-84ec3f825a5c\">SimpleImputer</label><div class=\"sk-toggleable__content\"><pre>SimpleImputer(strategy='most_frequent')</pre></div></div></div><div class=\"sk-item\"><div class=\"sk-estimator sk-toggleable\"><input class=\"sk-toggleable__control sk-hidden--visually\" id=\"29cebd17-02ab-4f2e-bb84-002c754e615e\" type=\"checkbox\" ><label class=\"sk-toggleable__label\" for=\"29cebd17-02ab-4f2e-bb84-002c754e615e\">OneHotEncoder</label><div class=\"sk-toggleable__content\"><pre>OneHotEncoder()</pre></div></div></div></div></div></div></div></div></div></div></div></div>"
      ],
      "text/plain": [
       "ColumnTransformer(transformers=[('num',\n",
       "                                 Pipeline(steps=[('imputer',\n",
       "                                                  SimpleImputer(strategy='median')),\n",
       "                                                 ('std_scaler',\n",
       "                                                  StandardScaler())]),\n",
       "                                 ['YearBuilt', 'NumberofBuildings',\n",
       "                                  'NumberofFloors', 'PropertyGFAParking',\n",
       "                                  'PropertyGFABuilding(s)',\n",
       "                                  'LargestPropertyUseTypeGFA', 'Latitude',\n",
       "                                  'Longitude', 'ENERGYSTARScore']),\n",
       "                                ('cat',\n",
       "                                 Pipeline(steps=[('imputer',\n",
       "                                                  SimpleImputer(strategy='most_frequent')),\n",
       "                                                 ('ohe', OneHotEncoder())]),\n",
       "                                 ['BuildingType', 'PrimaryPropertyType',\n",
       "                                  'CouncilDistrictCode', 'Neighborhood',\n",
       "                                  'ListOfAllPropertyUseTypes',\n",
       "                                  'LargestPropertyUseType', 'PropertyName'])])"
      ]
     },
     "execution_count": 3,
     "metadata": {},
     "output_type": "execute_result"
    }
   ],
   "source": [
    "model = LinearRegression()\n",
    "\n",
    "num_pipeline = Pipeline([\n",
    "    ('imputer', SimpleImputer(strategy='median')),\n",
    "    ('std_scaler', StandardScaler()),\n",
    "    ])\n",
    "\n",
    "cat_pipeline = Pipeline([\n",
    "    ('imputer', SimpleImputer(strategy='most_frequent')),\n",
    "    ('ohe', OneHotEncoder()),\n",
    "    ])\n",
    "\n",
    "preprocessing_pipeline = ColumnTransformer([\n",
    "    ('num', num_pipeline, num_attribs),\n",
    "    ('cat', cat_pipeline, cat_attribs),\n",
    "    ])\n",
    "\n",
    "preprocessing_pipeline"
   ]
  },
  {
   "cell_type": "code",
   "execution_count": 4,
   "metadata": {},
   "outputs": [
    {
     "name": "stdout",
     "output_type": "stream",
     "text": [
      "X_train_prepared shape:  (4649, 5137)\n"
     ]
    },
    {
     "data": {
      "text/html": [
       "<div>\n",
       "<style scoped>\n",
       "    .dataframe tbody tr th:only-of-type {\n",
       "        vertical-align: middle;\n",
       "    }\n",
       "\n",
       "    .dataframe tbody tr th {\n",
       "        vertical-align: top;\n",
       "    }\n",
       "\n",
       "    .dataframe thead th {\n",
       "        text-align: right;\n",
       "    }\n",
       "</style>\n",
       "<table border=\"1\" class=\"dataframe\">\n",
       "  <thead>\n",
       "    <tr style=\"text-align: right;\">\n",
       "      <th></th>\n",
       "      <th>count</th>\n",
       "      <th>mean</th>\n",
       "      <th>std</th>\n",
       "      <th>min</th>\n",
       "      <th>25%</th>\n",
       "      <th>50%</th>\n",
       "      <th>75%</th>\n",
       "      <th>max</th>\n",
       "    </tr>\n",
       "  </thead>\n",
       "  <tbody>\n",
       "    <tr>\n",
       "      <th>fit_time</th>\n",
       "      <td>5.0</td>\n",
       "      <td>2.946471</td>\n",
       "      <td>0.418654</td>\n",
       "      <td>2.434049</td>\n",
       "      <td>2.778540</td>\n",
       "      <td>2.943697</td>\n",
       "      <td>2.990571</td>\n",
       "      <td>3.585497</td>\n",
       "    </tr>\n",
       "    <tr>\n",
       "      <th>score_time</th>\n",
       "      <td>5.0</td>\n",
       "      <td>0.000400</td>\n",
       "      <td>0.000548</td>\n",
       "      <td>0.000000</td>\n",
       "      <td>0.000000</td>\n",
       "      <td>0.000000</td>\n",
       "      <td>0.000999</td>\n",
       "      <td>0.001001</td>\n",
       "    </tr>\n",
       "    <tr>\n",
       "      <th>test_score</th>\n",
       "      <td>5.0</td>\n",
       "      <td>590.584676</td>\n",
       "      <td>288.756162</td>\n",
       "      <td>225.075164</td>\n",
       "      <td>429.534559</td>\n",
       "      <td>553.148525</td>\n",
       "      <td>790.305424</td>\n",
       "      <td>954.859706</td>\n",
       "    </tr>\n",
       "    <tr>\n",
       "      <th>train_score</th>\n",
       "      <td>5.0</td>\n",
       "      <td>1.534266</td>\n",
       "      <td>0.327858</td>\n",
       "      <td>1.228615</td>\n",
       "      <td>1.255623</td>\n",
       "      <td>1.422413</td>\n",
       "      <td>1.837202</td>\n",
       "      <td>1.927478</td>\n",
       "    </tr>\n",
       "  </tbody>\n",
       "</table>\n",
       "</div>"
      ],
      "text/plain": [
       "             count        mean         std         min         25%  \\\n",
       "fit_time       5.0    2.946471    0.418654    2.434049    2.778540   \n",
       "score_time     5.0    0.000400    0.000548    0.000000    0.000000   \n",
       "test_score     5.0  590.584676  288.756162  225.075164  429.534559   \n",
       "train_score    5.0    1.534266    0.327858    1.228615    1.255623   \n",
       "\n",
       "                    50%         75%         max  \n",
       "fit_time       2.943697    2.990571    3.585497  \n",
       "score_time     0.000000    0.000999    0.001001  \n",
       "test_score   553.148525  790.305424  954.859706  \n",
       "train_score    1.422413    1.837202    1.927478  "
      ]
     },
     "execution_count": 4,
     "metadata": {},
     "output_type": "execute_result"
    }
   ],
   "source": [
    "X_train_prepared = preprocessing_pipeline.fit_transform(X_train)\n",
    "print(\"X_train_prepared shape: \", X_train_prepared.shape)\n",
    "\n",
    "stats = cross_validate(model, X_train_prepared, y_train, groups=None,\n",
    "                       scoring='neg_mean_squared_error', cv=5, n_jobs=2,\n",
    "                       return_train_score=True)\n",
    "stats = pd.DataFrame(stats)\n",
    "stats['train_score'] = np.sqrt(-stats['train_score'])\n",
    "stats['test_score'] = np.sqrt(-stats['test_score'])\n",
    "stats = stats.describe().transpose()\n",
    "stats"
   ]
  },
  {
   "cell_type": "markdown",
   "metadata": {},
   "source": [
    "Le modèle surajuste considérablement les données d'entraînement : l'écart entre le RMSE sur les données d'entraînement et sur les données de validation sont énormes. Voyons si les résultats s'améliore en ajoutant une étape de sélection de variables."
   ]
  },
  {
   "cell_type": "code",
   "execution_count": 5,
   "metadata": {},
   "outputs": [
    {
     "data": {
      "text/html": [
       "<style>#sk-fefd5029-c9ef-42d6-805b-375250ee8c8c {color: black;background-color: white;}#sk-fefd5029-c9ef-42d6-805b-375250ee8c8c pre{padding: 0;}#sk-fefd5029-c9ef-42d6-805b-375250ee8c8c div.sk-toggleable {background-color: white;}#sk-fefd5029-c9ef-42d6-805b-375250ee8c8c label.sk-toggleable__label {cursor: pointer;display: block;width: 100%;margin-bottom: 0;padding: 0.2em 0.3em;box-sizing: border-box;text-align: center;}#sk-fefd5029-c9ef-42d6-805b-375250ee8c8c div.sk-toggleable__content {max-height: 0;max-width: 0;overflow: hidden;text-align: left;background-color: #f0f8ff;}#sk-fefd5029-c9ef-42d6-805b-375250ee8c8c div.sk-toggleable__content pre {margin: 0.2em;color: black;border-radius: 0.25em;background-color: #f0f8ff;}#sk-fefd5029-c9ef-42d6-805b-375250ee8c8c input.sk-toggleable__control:checked~div.sk-toggleable__content {max-height: 200px;max-width: 100%;overflow: auto;}#sk-fefd5029-c9ef-42d6-805b-375250ee8c8c div.sk-estimator input.sk-toggleable__control:checked~label.sk-toggleable__label {background-color: #d4ebff;}#sk-fefd5029-c9ef-42d6-805b-375250ee8c8c div.sk-label input.sk-toggleable__control:checked~label.sk-toggleable__label {background-color: #d4ebff;}#sk-fefd5029-c9ef-42d6-805b-375250ee8c8c input.sk-hidden--visually {border: 0;clip: rect(1px 1px 1px 1px);clip: rect(1px, 1px, 1px, 1px);height: 1px;margin: -1px;overflow: hidden;padding: 0;position: absolute;width: 1px;}#sk-fefd5029-c9ef-42d6-805b-375250ee8c8c div.sk-estimator {font-family: monospace;background-color: #f0f8ff;margin: 0.25em 0.25em;border: 1px dotted black;border-radius: 0.25em;box-sizing: border-box;}#sk-fefd5029-c9ef-42d6-805b-375250ee8c8c div.sk-estimator:hover {background-color: #d4ebff;}#sk-fefd5029-c9ef-42d6-805b-375250ee8c8c div.sk-parallel-item::after {content: \"\";width: 100%;border-bottom: 1px solid gray;flex-grow: 1;}#sk-fefd5029-c9ef-42d6-805b-375250ee8c8c div.sk-label:hover label.sk-toggleable__label {background-color: #d4ebff;}#sk-fefd5029-c9ef-42d6-805b-375250ee8c8c div.sk-serial::before {content: \"\";position: absolute;border-left: 1px solid gray;box-sizing: border-box;top: 2em;bottom: 0;left: 50%;}#sk-fefd5029-c9ef-42d6-805b-375250ee8c8c div.sk-serial {display: flex;flex-direction: column;align-items: center;background-color: white;}#sk-fefd5029-c9ef-42d6-805b-375250ee8c8c div.sk-item {z-index: 1;}#sk-fefd5029-c9ef-42d6-805b-375250ee8c8c div.sk-parallel {display: flex;align-items: stretch;justify-content: center;background-color: white;}#sk-fefd5029-c9ef-42d6-805b-375250ee8c8c div.sk-parallel-item {display: flex;flex-direction: column;position: relative;background-color: white;}#sk-fefd5029-c9ef-42d6-805b-375250ee8c8c div.sk-parallel-item:first-child::after {align-self: flex-end;width: 50%;}#sk-fefd5029-c9ef-42d6-805b-375250ee8c8c div.sk-parallel-item:last-child::after {align-self: flex-start;width: 50%;}#sk-fefd5029-c9ef-42d6-805b-375250ee8c8c div.sk-parallel-item:only-child::after {width: 0;}#sk-fefd5029-c9ef-42d6-805b-375250ee8c8c div.sk-dashed-wrapped {border: 1px dashed gray;margin: 0.2em;box-sizing: border-box;padding-bottom: 0.1em;background-color: white;position: relative;}#sk-fefd5029-c9ef-42d6-805b-375250ee8c8c div.sk-label label {font-family: monospace;font-weight: bold;background-color: white;display: inline-block;line-height: 1.2em;}#sk-fefd5029-c9ef-42d6-805b-375250ee8c8c div.sk-label-container {position: relative;z-index: 2;text-align: center;}#sk-fefd5029-c9ef-42d6-805b-375250ee8c8c div.sk-container {display: inline-block;position: relative;}</style><div id=\"sk-fefd5029-c9ef-42d6-805b-375250ee8c8c\" class\"sk-top-container\"><div class=\"sk-container\"><div class=\"sk-item sk-dashed-wrapped\"><div class=\"sk-label-container\"><div class=\"sk-label sk-toggleable\"><input class=\"sk-toggleable__control sk-hidden--visually\" id=\"8ef485ec-05ee-460c-82b6-8d0cabd1cfe4\" type=\"checkbox\" ><label class=\"sk-toggleable__label\" for=\"8ef485ec-05ee-460c-82b6-8d0cabd1cfe4\">Pipeline</label><div class=\"sk-toggleable__content\"><pre>Pipeline(steps=[('preprocessing',\n",
       "                 ColumnTransformer(transformers=[('num',\n",
       "                                                  Pipeline(steps=[('imputer',\n",
       "                                                                   SimpleImputer(strategy='median')),\n",
       "                                                                  ('std_scaler',\n",
       "                                                                   StandardScaler())]),\n",
       "                                                  ['YearBuilt',\n",
       "                                                   'NumberofBuildings',\n",
       "                                                   'NumberofFloors',\n",
       "                                                   'PropertyGFAParking',\n",
       "                                                   'PropertyGFABuilding(s)',\n",
       "                                                   'LargestPropertyUseTypeGFA',\n",
       "                                                   'Latitude', 'Longitude',\n",
       "                                                   'ENERGYSTARScore']),\n",
       "                                                 ('cat',\n",
       "                                                  Pipeline(steps=[('imputer',\n",
       "                                                                   SimpleImputer(strategy='most_frequent')),\n",
       "                                                                  ('ohe',\n",
       "                                                                   OneHotEncoder())]),\n",
       "                                                  ['BuildingType',\n",
       "                                                   'PrimaryPropertyType',\n",
       "                                                   'CouncilDistrictCode',\n",
       "                                                   'Neighborhood',\n",
       "                                                   'ListOfAllPropertyUseTypes',\n",
       "                                                   'LargestPropertyUseType',\n",
       "                                                   'PropertyName'])])),\n",
       "                ('feature_selection',\n",
       "                 SelectKBest(k=150,\n",
       "                             score_func=<function mutual_info_regression at 0x0000026DA2E42A60>))])</pre></div></div></div><div class=\"sk-serial\"><div class=\"sk-item sk-dashed-wrapped\"><div class=\"sk-label-container\"><div class=\"sk-label sk-toggleable\"><input class=\"sk-toggleable__control sk-hidden--visually\" id=\"f180007f-2c5d-4d96-993b-3ba3123c5196\" type=\"checkbox\" ><label class=\"sk-toggleable__label\" for=\"f180007f-2c5d-4d96-993b-3ba3123c5196\">preprocessing: ColumnTransformer</label><div class=\"sk-toggleable__content\"><pre>ColumnTransformer(transformers=[('num',\n",
       "                                 Pipeline(steps=[('imputer',\n",
       "                                                  SimpleImputer(strategy='median')),\n",
       "                                                 ('std_scaler',\n",
       "                                                  StandardScaler())]),\n",
       "                                 ['YearBuilt', 'NumberofBuildings',\n",
       "                                  'NumberofFloors', 'PropertyGFAParking',\n",
       "                                  'PropertyGFABuilding(s)',\n",
       "                                  'LargestPropertyUseTypeGFA', 'Latitude',\n",
       "                                  'Longitude', 'ENERGYSTARScore']),\n",
       "                                ('cat',\n",
       "                                 Pipeline(steps=[('imputer',\n",
       "                                                  SimpleImputer(strategy='most_frequent')),\n",
       "                                                 ('ohe', OneHotEncoder())]),\n",
       "                                 ['BuildingType', 'PrimaryPropertyType',\n",
       "                                  'CouncilDistrictCode', 'Neighborhood',\n",
       "                                  'ListOfAllPropertyUseTypes',\n",
       "                                  'LargestPropertyUseType', 'PropertyName'])])</pre></div></div></div><div class=\"sk-parallel\"><div class=\"sk-parallel-item\"><div class=\"sk-item\"><div class=\"sk-label-container\"><div class=\"sk-label sk-toggleable\"><input class=\"sk-toggleable__control sk-hidden--visually\" id=\"607770a7-96b7-4734-9475-42558f3ce20b\" type=\"checkbox\" ><label class=\"sk-toggleable__label\" for=\"607770a7-96b7-4734-9475-42558f3ce20b\">num</label><div class=\"sk-toggleable__content\"><pre>['YearBuilt', 'NumberofBuildings', 'NumberofFloors', 'PropertyGFAParking', 'PropertyGFABuilding(s)', 'LargestPropertyUseTypeGFA', 'Latitude', 'Longitude', 'ENERGYSTARScore']</pre></div></div></div><div class=\"sk-serial\"><div class=\"sk-item\"><div class=\"sk-serial\"><div class=\"sk-item\"><div class=\"sk-estimator sk-toggleable\"><input class=\"sk-toggleable__control sk-hidden--visually\" id=\"7de3aa23-301b-45eb-a472-f3deef4dc6b2\" type=\"checkbox\" ><label class=\"sk-toggleable__label\" for=\"7de3aa23-301b-45eb-a472-f3deef4dc6b2\">SimpleImputer</label><div class=\"sk-toggleable__content\"><pre>SimpleImputer(strategy='median')</pre></div></div></div><div class=\"sk-item\"><div class=\"sk-estimator sk-toggleable\"><input class=\"sk-toggleable__control sk-hidden--visually\" id=\"933bf565-2a56-4ca9-af6e-feda819a2297\" type=\"checkbox\" ><label class=\"sk-toggleable__label\" for=\"933bf565-2a56-4ca9-af6e-feda819a2297\">StandardScaler</label><div class=\"sk-toggleable__content\"><pre>StandardScaler()</pre></div></div></div></div></div></div></div></div><div class=\"sk-parallel-item\"><div class=\"sk-item\"><div class=\"sk-label-container\"><div class=\"sk-label sk-toggleable\"><input class=\"sk-toggleable__control sk-hidden--visually\" id=\"ba78fa44-1a70-4592-a4cd-2751f5620544\" type=\"checkbox\" ><label class=\"sk-toggleable__label\" for=\"ba78fa44-1a70-4592-a4cd-2751f5620544\">cat</label><div class=\"sk-toggleable__content\"><pre>['BuildingType', 'PrimaryPropertyType', 'CouncilDistrictCode', 'Neighborhood', 'ListOfAllPropertyUseTypes', 'LargestPropertyUseType', 'PropertyName']</pre></div></div></div><div class=\"sk-serial\"><div class=\"sk-item\"><div class=\"sk-serial\"><div class=\"sk-item\"><div class=\"sk-estimator sk-toggleable\"><input class=\"sk-toggleable__control sk-hidden--visually\" id=\"ef830084-6c94-453a-8eda-bd831e47a73e\" type=\"checkbox\" ><label class=\"sk-toggleable__label\" for=\"ef830084-6c94-453a-8eda-bd831e47a73e\">SimpleImputer</label><div class=\"sk-toggleable__content\"><pre>SimpleImputer(strategy='most_frequent')</pre></div></div></div><div class=\"sk-item\"><div class=\"sk-estimator sk-toggleable\"><input class=\"sk-toggleable__control sk-hidden--visually\" id=\"d93af2f2-40fe-4a3c-900a-e0bc9cd2327b\" type=\"checkbox\" ><label class=\"sk-toggleable__label\" for=\"d93af2f2-40fe-4a3c-900a-e0bc9cd2327b\">OneHotEncoder</label><div class=\"sk-toggleable__content\"><pre>OneHotEncoder()</pre></div></div></div></div></div></div></div></div></div></div><div class=\"sk-item\"><div class=\"sk-estimator sk-toggleable\"><input class=\"sk-toggleable__control sk-hidden--visually\" id=\"eb0fb689-0eb1-44cd-a5e3-c5f8ff838bc9\" type=\"checkbox\" ><label class=\"sk-toggleable__label\" for=\"eb0fb689-0eb1-44cd-a5e3-c5f8ff838bc9\">SelectKBest</label><div class=\"sk-toggleable__content\"><pre>SelectKBest(k=150,\n",
       "            score_func=<function mutual_info_regression at 0x0000026DA2E42A60>)</pre></div></div></div></div></div></div></div>"
      ],
      "text/plain": [
       "Pipeline(steps=[('preprocessing',\n",
       "                 ColumnTransformer(transformers=[('num',\n",
       "                                                  Pipeline(steps=[('imputer',\n",
       "                                                                   SimpleImputer(strategy='median')),\n",
       "                                                                  ('std_scaler',\n",
       "                                                                   StandardScaler())]),\n",
       "                                                  ['YearBuilt',\n",
       "                                                   'NumberofBuildings',\n",
       "                                                   'NumberofFloors',\n",
       "                                                   'PropertyGFAParking',\n",
       "                                                   'PropertyGFABuilding(s)',\n",
       "                                                   'LargestPropertyUseTypeGFA',\n",
       "                                                   'Latitude', 'Longitude',\n",
       "                                                   'ENERGYSTARScore']),\n",
       "                                                 ('cat',\n",
       "                                                  Pipeline(steps=[('imputer',\n",
       "                                                                   SimpleImputer(strategy='most_frequent')),\n",
       "                                                                  ('ohe',\n",
       "                                                                   OneHotEncoder())]),\n",
       "                                                  ['BuildingType',\n",
       "                                                   'PrimaryPropertyType',\n",
       "                                                   'CouncilDistrictCode',\n",
       "                                                   'Neighborhood',\n",
       "                                                   'ListOfAllPropertyUseTypes',\n",
       "                                                   'LargestPropertyUseType',\n",
       "                                                   'PropertyName'])])),\n",
       "                ('feature_selection',\n",
       "                 SelectKBest(k=150,\n",
       "                             score_func=<function mutual_info_regression at 0x0000026DA2E42A60>))])"
      ]
     },
     "execution_count": 5,
     "metadata": {},
     "output_type": "execute_result"
    }
   ],
   "source": [
    "preprocessing_and_feature_selection_pipeline = Pipeline([\n",
    "    ('preprocessing', preprocessing_pipeline),\n",
    "    ('feature_selection', SelectKBest(k=150, score_func=mutual_info_regression))\n",
    "])\n",
    "\n",
    "preprocessing_and_feature_selection_pipeline"
   ]
  },
  {
   "cell_type": "code",
   "execution_count": 6,
   "metadata": {},
   "outputs": [
    {
     "data": {
      "text/html": [
       "<div>\n",
       "<style scoped>\n",
       "    .dataframe tbody tr th:only-of-type {\n",
       "        vertical-align: middle;\n",
       "    }\n",
       "\n",
       "    .dataframe tbody tr th {\n",
       "        vertical-align: top;\n",
       "    }\n",
       "\n",
       "    .dataframe thead th {\n",
       "        text-align: right;\n",
       "    }\n",
       "</style>\n",
       "<table border=\"1\" class=\"dataframe\">\n",
       "  <thead>\n",
       "    <tr style=\"text-align: right;\">\n",
       "      <th></th>\n",
       "      <th>count</th>\n",
       "      <th>mean</th>\n",
       "      <th>std</th>\n",
       "      <th>min</th>\n",
       "      <th>25%</th>\n",
       "      <th>50%</th>\n",
       "      <th>75%</th>\n",
       "      <th>max</th>\n",
       "    </tr>\n",
       "  </thead>\n",
       "  <tbody>\n",
       "    <tr>\n",
       "      <th>fit_time</th>\n",
       "      <td>5.0</td>\n",
       "      <td>0.124478</td>\n",
       "      <td>0.023529</td>\n",
       "      <td>0.094687</td>\n",
       "      <td>0.108072</td>\n",
       "      <td>0.124694</td>\n",
       "      <td>0.146966</td>\n",
       "      <td>0.147972</td>\n",
       "    </tr>\n",
       "    <tr>\n",
       "      <th>score_time</th>\n",
       "      <td>5.0</td>\n",
       "      <td>0.000000</td>\n",
       "      <td>0.000000</td>\n",
       "      <td>0.000000</td>\n",
       "      <td>0.000000</td>\n",
       "      <td>0.000000</td>\n",
       "      <td>0.000000</td>\n",
       "      <td>0.000000</td>\n",
       "    </tr>\n",
       "    <tr>\n",
       "      <th>test_score</th>\n",
       "      <td>5.0</td>\n",
       "      <td>103.682466</td>\n",
       "      <td>12.232467</td>\n",
       "      <td>92.903389</td>\n",
       "      <td>94.165047</td>\n",
       "      <td>103.877330</td>\n",
       "      <td>103.994509</td>\n",
       "      <td>123.472057</td>\n",
       "    </tr>\n",
       "    <tr>\n",
       "      <th>train_score</th>\n",
       "      <td>5.0</td>\n",
       "      <td>97.271520</td>\n",
       "      <td>3.261664</td>\n",
       "      <td>91.997879</td>\n",
       "      <td>97.136326</td>\n",
       "      <td>97.297935</td>\n",
       "      <td>99.617541</td>\n",
       "      <td>100.307920</td>\n",
       "    </tr>\n",
       "  </tbody>\n",
       "</table>\n",
       "</div>"
      ],
      "text/plain": [
       "             count        mean        std        min        25%         50%  \\\n",
       "fit_time       5.0    0.124478   0.023529   0.094687   0.108072    0.124694   \n",
       "score_time     5.0    0.000000   0.000000   0.000000   0.000000    0.000000   \n",
       "test_score     5.0  103.682466  12.232467  92.903389  94.165047  103.877330   \n",
       "train_score    5.0   97.271520   3.261664  91.997879  97.136326   97.297935   \n",
       "\n",
       "                    75%         max  \n",
       "fit_time       0.146966    0.147972  \n",
       "score_time     0.000000    0.000000  \n",
       "test_score   103.994509  123.472057  \n",
       "train_score   99.617541  100.307920  "
      ]
     },
     "execution_count": 6,
     "metadata": {},
     "output_type": "execute_result"
    }
   ],
   "source": [
    "X_train_prepared = preprocessing_and_feature_selection_pipeline.fit_transform(X_train, y_train)\n",
    "\n",
    "stats = cross_validate(model, X_train_prepared, y_train, groups=None,\n",
    "                       scoring='neg_mean_squared_error', cv=5, n_jobs=2,\n",
    "                       return_train_score=True)\n",
    "\n",
    "stats = pd.DataFrame(stats)\n",
    "stats['train_score'] = np.sqrt(-stats['train_score'])\n",
    "stats['test_score'] = np.sqrt(-stats['test_score'])\n",
    "stats = stats.describe().transpose()\n",
    "stats"
   ]
  },
  {
   "cell_type": "markdown",
   "metadata": {},
   "source": [
    "En sélectionnant __150 variables__ à l'aide de la classe `SelectKBest()`, il n'y a plus de problème de surajustement. l'écart entre le RMSE obtenu avec les données d'entraînement et de validation s'est nettement réduit.  "
   ]
  },
  {
   "cell_type": "markdown",
   "metadata": {},
   "source": [
    "# 2. Lasso"
   ]
  },
  {
   "cell_type": "markdown",
   "metadata": {},
   "source": [
    "Utilisons `preprocessing_pipeline` cette fois ci avec le modèle `Lasso()` : "
   ]
  },
  {
   "cell_type": "code",
   "execution_count": 7,
   "metadata": {},
   "outputs": [
    {
     "name": "stdout",
     "output_type": "stream",
     "text": [
      "X_train_prepared shape:  (4649, 5137)\n"
     ]
    },
    {
     "data": {
      "text/html": [
       "<div>\n",
       "<style scoped>\n",
       "    .dataframe tbody tr th:only-of-type {\n",
       "        vertical-align: middle;\n",
       "    }\n",
       "\n",
       "    .dataframe tbody tr th {\n",
       "        vertical-align: top;\n",
       "    }\n",
       "\n",
       "    .dataframe thead th {\n",
       "        text-align: right;\n",
       "    }\n",
       "</style>\n",
       "<table border=\"1\" class=\"dataframe\">\n",
       "  <thead>\n",
       "    <tr style=\"text-align: right;\">\n",
       "      <th></th>\n",
       "      <th>count</th>\n",
       "      <th>mean</th>\n",
       "      <th>std</th>\n",
       "      <th>min</th>\n",
       "      <th>25%</th>\n",
       "      <th>50%</th>\n",
       "      <th>75%</th>\n",
       "      <th>max</th>\n",
       "    </tr>\n",
       "  </thead>\n",
       "  <tbody>\n",
       "    <tr>\n",
       "      <th>fit_time</th>\n",
       "      <td>5.0</td>\n",
       "      <td>2.277547</td>\n",
       "      <td>0.302751</td>\n",
       "      <td>1.840223</td>\n",
       "      <td>2.152942</td>\n",
       "      <td>2.279307</td>\n",
       "      <td>2.519179</td>\n",
       "      <td>2.596084</td>\n",
       "    </tr>\n",
       "    <tr>\n",
       "      <th>score_time</th>\n",
       "      <td>5.0</td>\n",
       "      <td>0.000401</td>\n",
       "      <td>0.000549</td>\n",
       "      <td>0.000000</td>\n",
       "      <td>0.000000</td>\n",
       "      <td>0.000000</td>\n",
       "      <td>0.001000</td>\n",
       "      <td>0.001005</td>\n",
       "    </tr>\n",
       "    <tr>\n",
       "      <th>test_score</th>\n",
       "      <td>5.0</td>\n",
       "      <td>108.375351</td>\n",
       "      <td>10.264733</td>\n",
       "      <td>98.194887</td>\n",
       "      <td>99.032817</td>\n",
       "      <td>110.393198</td>\n",
       "      <td>111.076181</td>\n",
       "      <td>123.179674</td>\n",
       "    </tr>\n",
       "    <tr>\n",
       "      <th>train_score</th>\n",
       "      <td>5.0</td>\n",
       "      <td>106.886027</td>\n",
       "      <td>2.752002</td>\n",
       "      <td>102.441357</td>\n",
       "      <td>106.598692</td>\n",
       "      <td>107.061436</td>\n",
       "      <td>109.015399</td>\n",
       "      <td>109.313251</td>\n",
       "    </tr>\n",
       "  </tbody>\n",
       "</table>\n",
       "</div>"
      ],
      "text/plain": [
       "             count        mean        std         min         25%         50%  \\\n",
       "fit_time       5.0    2.277547   0.302751    1.840223    2.152942    2.279307   \n",
       "score_time     5.0    0.000401   0.000549    0.000000    0.000000    0.000000   \n",
       "test_score     5.0  108.375351  10.264733   98.194887   99.032817  110.393198   \n",
       "train_score    5.0  106.886027   2.752002  102.441357  106.598692  107.061436   \n",
       "\n",
       "                    75%         max  \n",
       "fit_time       2.519179    2.596084  \n",
       "score_time     0.001000    0.001005  \n",
       "test_score   111.076181  123.179674  \n",
       "train_score  109.015399  109.313251  "
      ]
     },
     "execution_count": 7,
     "metadata": {},
     "output_type": "execute_result"
    }
   ],
   "source": [
    "model = Lasso()\n",
    "\n",
    "X_train_prepared = preprocessing_pipeline.fit_transform(X_train)\n",
    "print(\"X_train_prepared shape: \", X_train_prepared.shape)\n",
    "\n",
    "stats = cross_validate(model, X_train_prepared, y_train, groups=None,\n",
    "                       scoring='neg_mean_squared_error', cv=5, n_jobs=2,\n",
    "                       return_train_score=True)\n",
    "stats = pd.DataFrame(stats)\n",
    "stats['train_score'] = np.sqrt(-stats['train_score'])\n",
    "stats['test_score'] = np.sqrt(-stats['test_score'])\n",
    "stats = stats.describe().transpose()\n",
    "stats"
   ]
  },
  {
   "cell_type": "markdown",
   "metadata": {},
   "source": [
    "RMSE moyen sur les jeux de validation : 108,37.\n",
    "\n",
    "Utilisons à présent le transformateur `preprocessing_and_feature_selection_pipeline`, toujours avec le modèle `Lasso()` :"
   ]
  },
  {
   "cell_type": "code",
   "execution_count": 8,
   "metadata": {},
   "outputs": [
    {
     "data": {
      "text/html": [
       "<div>\n",
       "<style scoped>\n",
       "    .dataframe tbody tr th:only-of-type {\n",
       "        vertical-align: middle;\n",
       "    }\n",
       "\n",
       "    .dataframe tbody tr th {\n",
       "        vertical-align: top;\n",
       "    }\n",
       "\n",
       "    .dataframe thead th {\n",
       "        text-align: right;\n",
       "    }\n",
       "</style>\n",
       "<table border=\"1\" class=\"dataframe\">\n",
       "  <thead>\n",
       "    <tr style=\"text-align: right;\">\n",
       "      <th></th>\n",
       "      <th>count</th>\n",
       "      <th>mean</th>\n",
       "      <th>std</th>\n",
       "      <th>min</th>\n",
       "      <th>25%</th>\n",
       "      <th>50%</th>\n",
       "      <th>75%</th>\n",
       "      <th>max</th>\n",
       "    </tr>\n",
       "  </thead>\n",
       "  <tbody>\n",
       "    <tr>\n",
       "      <th>fit_time</th>\n",
       "      <td>5.0</td>\n",
       "      <td>0.177880</td>\n",
       "      <td>0.015553</td>\n",
       "      <td>0.160438</td>\n",
       "      <td>0.165437</td>\n",
       "      <td>0.181627</td>\n",
       "      <td>0.182207</td>\n",
       "      <td>0.199692</td>\n",
       "    </tr>\n",
       "    <tr>\n",
       "      <th>score_time</th>\n",
       "      <td>5.0</td>\n",
       "      <td>0.000402</td>\n",
       "      <td>0.000551</td>\n",
       "      <td>0.000000</td>\n",
       "      <td>0.000000</td>\n",
       "      <td>0.000000</td>\n",
       "      <td>0.001002</td>\n",
       "      <td>0.001009</td>\n",
       "    </tr>\n",
       "    <tr>\n",
       "      <th>test_score</th>\n",
       "      <td>5.0</td>\n",
       "      <td>108.841638</td>\n",
       "      <td>10.337190</td>\n",
       "      <td>98.842289</td>\n",
       "      <td>99.179819</td>\n",
       "      <td>111.101184</td>\n",
       "      <td>111.314344</td>\n",
       "      <td>123.770551</td>\n",
       "    </tr>\n",
       "    <tr>\n",
       "      <th>train_score</th>\n",
       "      <td>5.0</td>\n",
       "      <td>107.392985</td>\n",
       "      <td>2.759705</td>\n",
       "      <td>102.928994</td>\n",
       "      <td>107.190910</td>\n",
       "      <td>107.481384</td>\n",
       "      <td>109.609284</td>\n",
       "      <td>109.754352</td>\n",
       "    </tr>\n",
       "  </tbody>\n",
       "</table>\n",
       "</div>"
      ],
      "text/plain": [
       "             count        mean        std         min         25%         50%  \\\n",
       "fit_time       5.0    0.177880   0.015553    0.160438    0.165437    0.181627   \n",
       "score_time     5.0    0.000402   0.000551    0.000000    0.000000    0.000000   \n",
       "test_score     5.0  108.841638  10.337190   98.842289   99.179819  111.101184   \n",
       "train_score    5.0  107.392985   2.759705  102.928994  107.190910  107.481384   \n",
       "\n",
       "                    75%         max  \n",
       "fit_time       0.182207    0.199692  \n",
       "score_time     0.001002    0.001009  \n",
       "test_score   111.314344  123.770551  \n",
       "train_score  109.609284  109.754352  "
      ]
     },
     "execution_count": 8,
     "metadata": {},
     "output_type": "execute_result"
    }
   ],
   "source": [
    "X_train_prepared = preprocessing_and_feature_selection_pipeline.fit_transform(X_train, y_train)\n",
    "\n",
    "stats = cross_validate(model, X_train_prepared, y_train, groups=None,\n",
    "                       scoring='neg_mean_squared_error', cv=5, n_jobs=2,\n",
    "                       return_train_score=True)\n",
    "\n",
    "stats = pd.DataFrame(stats)\n",
    "stats['train_score'] = np.sqrt(-stats['train_score'])\n",
    "stats['test_score'] = np.sqrt(-stats['test_score'])\n",
    "stats = stats.describe().transpose()\n",
    "stats"
   ]
  },
  {
   "cell_type": "markdown",
   "metadata": {},
   "source": [
    "En rajoutant l'étape de sélection de variables, le RMSE moyen sur les jeux de validation se dégrade légèrement, passant de 108,38 à 108,84. "
   ]
  },
  {
   "cell_type": "markdown",
   "metadata": {},
   "source": [
    "# 3. SVR"
   ]
  },
  {
   "cell_type": "code",
   "execution_count": 86,
   "metadata": {},
   "outputs": [
    {
     "name": "stdout",
     "output_type": "stream",
     "text": [
      "X_train_prepared shape:  (4649, 5137)\n"
     ]
    },
    {
     "data": {
      "text/html": [
       "<div>\n",
       "<style scoped>\n",
       "    .dataframe tbody tr th:only-of-type {\n",
       "        vertical-align: middle;\n",
       "    }\n",
       "\n",
       "    .dataframe tbody tr th {\n",
       "        vertical-align: top;\n",
       "    }\n",
       "\n",
       "    .dataframe thead th {\n",
       "        text-align: right;\n",
       "    }\n",
       "</style>\n",
       "<table border=\"1\" class=\"dataframe\">\n",
       "  <thead>\n",
       "    <tr style=\"text-align: right;\">\n",
       "      <th></th>\n",
       "      <th>count</th>\n",
       "      <th>mean</th>\n",
       "      <th>std</th>\n",
       "      <th>min</th>\n",
       "      <th>25%</th>\n",
       "      <th>50%</th>\n",
       "      <th>75%</th>\n",
       "      <th>max</th>\n",
       "    </tr>\n",
       "  </thead>\n",
       "  <tbody>\n",
       "    <tr>\n",
       "      <th>fit_time</th>\n",
       "      <td>5.0</td>\n",
       "      <td>1.070596</td>\n",
       "      <td>0.111622</td>\n",
       "      <td>0.921921</td>\n",
       "      <td>1.026612</td>\n",
       "      <td>1.040236</td>\n",
       "      <td>1.179983</td>\n",
       "      <td>1.184227</td>\n",
       "    </tr>\n",
       "    <tr>\n",
       "      <th>score_time</th>\n",
       "      <td>5.0</td>\n",
       "      <td>0.211987</td>\n",
       "      <td>0.013887</td>\n",
       "      <td>0.187496</td>\n",
       "      <td>0.214442</td>\n",
       "      <td>0.218498</td>\n",
       "      <td>0.218611</td>\n",
       "      <td>0.220891</td>\n",
       "    </tr>\n",
       "    <tr>\n",
       "      <th>test_score</th>\n",
       "      <td>5.0</td>\n",
       "      <td>138.062040</td>\n",
       "      <td>17.894452</td>\n",
       "      <td>124.833482</td>\n",
       "      <td>125.576164</td>\n",
       "      <td>131.222094</td>\n",
       "      <td>140.677693</td>\n",
       "      <td>168.000765</td>\n",
       "    </tr>\n",
       "    <tr>\n",
       "      <th>train_score</th>\n",
       "      <td>5.0</td>\n",
       "      <td>138.621107</td>\n",
       "      <td>4.722941</td>\n",
       "      <td>130.567189</td>\n",
       "      <td>138.481052</td>\n",
       "      <td>140.475603</td>\n",
       "      <td>141.156091</td>\n",
       "      <td>142.425601</td>\n",
       "    </tr>\n",
       "  </tbody>\n",
       "</table>\n",
       "</div>"
      ],
      "text/plain": [
       "             count        mean        std         min         25%         50%  \\\n",
       "fit_time       5.0    1.070596   0.111622    0.921921    1.026612    1.040236   \n",
       "score_time     5.0    0.211987   0.013887    0.187496    0.214442    0.218498   \n",
       "test_score     5.0  138.062040  17.894452  124.833482  125.576164  131.222094   \n",
       "train_score    5.0  138.621107   4.722941  130.567189  138.481052  140.475603   \n",
       "\n",
       "                    75%         max  \n",
       "fit_time       1.179983    1.184227  \n",
       "score_time     0.218611    0.220891  \n",
       "test_score   140.677693  168.000765  \n",
       "train_score  141.156091  142.425601  "
      ]
     },
     "execution_count": 86,
     "metadata": {},
     "output_type": "execute_result"
    }
   ],
   "source": [
    "model = SVR()\n",
    "\n",
    "X_train_prepared = preprocessing_pipeline.fit_transform(X_train)\n",
    "print(\"X_train_prepared shape: \", X_train_prepared.shape)\n",
    "\n",
    "stats = cross_validate(model, X_train_prepared, y_train, groups=None,\n",
    "                       scoring='neg_mean_squared_error', cv=5, n_jobs=2,\n",
    "                       return_train_score=True)\n",
    "stats = pd.DataFrame(stats)\n",
    "stats['train_score'] = np.sqrt(-stats['train_score'])\n",
    "stats['test_score'] = np.sqrt(-stats['test_score'])\n",
    "stats = stats.describe().transpose()\n",
    "stats"
   ]
  },
  {
   "cell_type": "code",
   "execution_count": 88,
   "metadata": {},
   "outputs": [
    {
     "data": {
      "text/html": [
       "<div>\n",
       "<style scoped>\n",
       "    .dataframe tbody tr th:only-of-type {\n",
       "        vertical-align: middle;\n",
       "    }\n",
       "\n",
       "    .dataframe tbody tr th {\n",
       "        vertical-align: top;\n",
       "    }\n",
       "\n",
       "    .dataframe thead th {\n",
       "        text-align: right;\n",
       "    }\n",
       "</style>\n",
       "<table border=\"1\" class=\"dataframe\">\n",
       "  <thead>\n",
       "    <tr style=\"text-align: right;\">\n",
       "      <th></th>\n",
       "      <th>count</th>\n",
       "      <th>mean</th>\n",
       "      <th>std</th>\n",
       "      <th>min</th>\n",
       "      <th>25%</th>\n",
       "      <th>50%</th>\n",
       "      <th>75%</th>\n",
       "      <th>max</th>\n",
       "    </tr>\n",
       "  </thead>\n",
       "  <tbody>\n",
       "    <tr>\n",
       "      <th>fit_time</th>\n",
       "      <td>5.0</td>\n",
       "      <td>1.306600</td>\n",
       "      <td>0.167286</td>\n",
       "      <td>1.007816</td>\n",
       "      <td>1.371949</td>\n",
       "      <td>1.371949</td>\n",
       "      <td>1.390643</td>\n",
       "      <td>1.390643</td>\n",
       "    </tr>\n",
       "    <tr>\n",
       "      <th>score_time</th>\n",
       "      <td>5.0</td>\n",
       "      <td>0.256238</td>\n",
       "      <td>0.045013</td>\n",
       "      <td>0.187498</td>\n",
       "      <td>0.249980</td>\n",
       "      <td>0.249980</td>\n",
       "      <td>0.296865</td>\n",
       "      <td>0.296865</td>\n",
       "    </tr>\n",
       "    <tr>\n",
       "      <th>test_score</th>\n",
       "      <td>5.0</td>\n",
       "      <td>137.623056</td>\n",
       "      <td>17.844996</td>\n",
       "      <td>124.456932</td>\n",
       "      <td>125.166710</td>\n",
       "      <td>130.733499</td>\n",
       "      <td>140.290723</td>\n",
       "      <td>167.467415</td>\n",
       "    </tr>\n",
       "    <tr>\n",
       "      <th>train_score</th>\n",
       "      <td>5.0</td>\n",
       "      <td>138.209259</td>\n",
       "      <td>4.761604</td>\n",
       "      <td>130.122456</td>\n",
       "      <td>137.991775</td>\n",
       "      <td>140.043440</td>\n",
       "      <td>140.754214</td>\n",
       "      <td>142.134409</td>\n",
       "    </tr>\n",
       "  </tbody>\n",
       "</table>\n",
       "</div>"
      ],
      "text/plain": [
       "             count        mean        std         min         25%         50%  \\\n",
       "fit_time       5.0    1.306600   0.167286    1.007816    1.371949    1.371949   \n",
       "score_time     5.0    0.256238   0.045013    0.187498    0.249980    0.249980   \n",
       "test_score     5.0  137.623056  17.844996  124.456932  125.166710  130.733499   \n",
       "train_score    5.0  138.209259   4.761604  130.122456  137.991775  140.043440   \n",
       "\n",
       "                    75%         max  \n",
       "fit_time       1.390643    1.390643  \n",
       "score_time     0.296865    0.296865  \n",
       "test_score   140.290723  167.467415  \n",
       "train_score  140.754214  142.134409  "
      ]
     },
     "execution_count": 88,
     "metadata": {},
     "output_type": "execute_result"
    }
   ],
   "source": [
    "X_train_prepared = preprocessing_and_feature_selection_pipeline.fit_transform(X_train, y_train)\n",
    "\n",
    "stats = cross_validate(model, X_train_prepared, y_train, groups=None,\n",
    "                       scoring='neg_mean_squared_error', cv=5, n_jobs=2,\n",
    "                       return_train_score=True)\n",
    "\n",
    "stats = pd.DataFrame(stats)\n",
    "stats['train_score'] = np.sqrt(-stats['train_score'])\n",
    "stats['test_score'] = np.sqrt(-stats['test_score'])\n",
    "stats = stats.describe().transpose()\n",
    "stats"
   ]
  },
  {
   "cell_type": "markdown",
   "metadata": {},
   "source": [
    "Le modèle `SVR()` est le modèle donnant les moins bonnes performances, à la fois sur les données d'entraînement et sur les données de validation. "
   ]
  },
  {
   "cell_type": "markdown",
   "metadata": {},
   "source": [
    "# 4. Random Forest"
   ]
  },
  {
   "cell_type": "code",
   "execution_count": 22,
   "metadata": {},
   "outputs": [
    {
     "data": {
      "text/html": [
       "<style>#sk-48a3e982-1c03-42fe-978b-c060f6c174e2 {color: black;background-color: white;}#sk-48a3e982-1c03-42fe-978b-c060f6c174e2 pre{padding: 0;}#sk-48a3e982-1c03-42fe-978b-c060f6c174e2 div.sk-toggleable {background-color: white;}#sk-48a3e982-1c03-42fe-978b-c060f6c174e2 label.sk-toggleable__label {cursor: pointer;display: block;width: 100%;margin-bottom: 0;padding: 0.2em 0.3em;box-sizing: border-box;text-align: center;}#sk-48a3e982-1c03-42fe-978b-c060f6c174e2 div.sk-toggleable__content {max-height: 0;max-width: 0;overflow: hidden;text-align: left;background-color: #f0f8ff;}#sk-48a3e982-1c03-42fe-978b-c060f6c174e2 div.sk-toggleable__content pre {margin: 0.2em;color: black;border-radius: 0.25em;background-color: #f0f8ff;}#sk-48a3e982-1c03-42fe-978b-c060f6c174e2 input.sk-toggleable__control:checked~div.sk-toggleable__content {max-height: 200px;max-width: 100%;overflow: auto;}#sk-48a3e982-1c03-42fe-978b-c060f6c174e2 div.sk-estimator input.sk-toggleable__control:checked~label.sk-toggleable__label {background-color: #d4ebff;}#sk-48a3e982-1c03-42fe-978b-c060f6c174e2 div.sk-label input.sk-toggleable__control:checked~label.sk-toggleable__label {background-color: #d4ebff;}#sk-48a3e982-1c03-42fe-978b-c060f6c174e2 input.sk-hidden--visually {border: 0;clip: rect(1px 1px 1px 1px);clip: rect(1px, 1px, 1px, 1px);height: 1px;margin: -1px;overflow: hidden;padding: 0;position: absolute;width: 1px;}#sk-48a3e982-1c03-42fe-978b-c060f6c174e2 div.sk-estimator {font-family: monospace;background-color: #f0f8ff;margin: 0.25em 0.25em;border: 1px dotted black;border-radius: 0.25em;box-sizing: border-box;}#sk-48a3e982-1c03-42fe-978b-c060f6c174e2 div.sk-estimator:hover {background-color: #d4ebff;}#sk-48a3e982-1c03-42fe-978b-c060f6c174e2 div.sk-parallel-item::after {content: \"\";width: 100%;border-bottom: 1px solid gray;flex-grow: 1;}#sk-48a3e982-1c03-42fe-978b-c060f6c174e2 div.sk-label:hover label.sk-toggleable__label {background-color: #d4ebff;}#sk-48a3e982-1c03-42fe-978b-c060f6c174e2 div.sk-serial::before {content: \"\";position: absolute;border-left: 1px solid gray;box-sizing: border-box;top: 2em;bottom: 0;left: 50%;}#sk-48a3e982-1c03-42fe-978b-c060f6c174e2 div.sk-serial {display: flex;flex-direction: column;align-items: center;background-color: white;}#sk-48a3e982-1c03-42fe-978b-c060f6c174e2 div.sk-item {z-index: 1;}#sk-48a3e982-1c03-42fe-978b-c060f6c174e2 div.sk-parallel {display: flex;align-items: stretch;justify-content: center;background-color: white;}#sk-48a3e982-1c03-42fe-978b-c060f6c174e2 div.sk-parallel-item {display: flex;flex-direction: column;position: relative;background-color: white;}#sk-48a3e982-1c03-42fe-978b-c060f6c174e2 div.sk-parallel-item:first-child::after {align-self: flex-end;width: 50%;}#sk-48a3e982-1c03-42fe-978b-c060f6c174e2 div.sk-parallel-item:last-child::after {align-self: flex-start;width: 50%;}#sk-48a3e982-1c03-42fe-978b-c060f6c174e2 div.sk-parallel-item:only-child::after {width: 0;}#sk-48a3e982-1c03-42fe-978b-c060f6c174e2 div.sk-dashed-wrapped {border: 1px dashed gray;margin: 0.2em;box-sizing: border-box;padding-bottom: 0.1em;background-color: white;position: relative;}#sk-48a3e982-1c03-42fe-978b-c060f6c174e2 div.sk-label label {font-family: monospace;font-weight: bold;background-color: white;display: inline-block;line-height: 1.2em;}#sk-48a3e982-1c03-42fe-978b-c060f6c174e2 div.sk-label-container {position: relative;z-index: 2;text-align: center;}#sk-48a3e982-1c03-42fe-978b-c060f6c174e2 div.sk-container {display: inline-block;position: relative;}</style><div id=\"sk-48a3e982-1c03-42fe-978b-c060f6c174e2\" class\"sk-top-container\"><div class=\"sk-container\"><div class=\"sk-item sk-dashed-wrapped\"><div class=\"sk-label-container\"><div class=\"sk-label sk-toggleable\"><input class=\"sk-toggleable__control sk-hidden--visually\" id=\"f925e866-5cb3-4ac5-bfd6-153c65a8b12d\" type=\"checkbox\" ><label class=\"sk-toggleable__label\" for=\"f925e866-5cb3-4ac5-bfd6-153c65a8b12d\">ColumnTransformer</label><div class=\"sk-toggleable__content\"><pre>ColumnTransformer(transformers=[('num',\n",
       "                                 Pipeline(steps=[('imputer',\n",
       "                                                  SimpleImputer(strategy='median'))]),\n",
       "                                 ['YearBuilt', 'NumberofBuildings',\n",
       "                                  'NumberofFloors', 'PropertyGFAParking',\n",
       "                                  'PropertyGFABuilding(s)',\n",
       "                                  'LargestPropertyUseTypeGFA', 'Latitude',\n",
       "                                  'Longitude', 'ENERGYSTARScore']),\n",
       "                                ('cat',\n",
       "                                 Pipeline(steps=[('imputer',\n",
       "                                                  SimpleImputer(strategy='most_frequent')),\n",
       "                                                 ('loo',\n",
       "                                                  LeaveOneOutEncoder())]),\n",
       "                                 ['BuildingType', 'PrimaryPropertyType',\n",
       "                                  'CouncilDistrictCode', 'Neighborhood',\n",
       "                                  'ListOfAllPropertyUseTypes',\n",
       "                                  'LargestPropertyUseType', 'PropertyName'])])</pre></div></div></div><div class=\"sk-parallel\"><div class=\"sk-parallel-item\"><div class=\"sk-item\"><div class=\"sk-label-container\"><div class=\"sk-label sk-toggleable\"><input class=\"sk-toggleable__control sk-hidden--visually\" id=\"555a12f0-8ae9-48e0-8166-03dc0f92c3d9\" type=\"checkbox\" ><label class=\"sk-toggleable__label\" for=\"555a12f0-8ae9-48e0-8166-03dc0f92c3d9\">num</label><div class=\"sk-toggleable__content\"><pre>['YearBuilt', 'NumberofBuildings', 'NumberofFloors', 'PropertyGFAParking', 'PropertyGFABuilding(s)', 'LargestPropertyUseTypeGFA', 'Latitude', 'Longitude', 'ENERGYSTARScore']</pre></div></div></div><div class=\"sk-serial\"><div class=\"sk-item\"><div class=\"sk-serial\"><div class=\"sk-item\"><div class=\"sk-estimator sk-toggleable\"><input class=\"sk-toggleable__control sk-hidden--visually\" id=\"04859758-8e48-470a-b906-9ffbba4fe0c6\" type=\"checkbox\" ><label class=\"sk-toggleable__label\" for=\"04859758-8e48-470a-b906-9ffbba4fe0c6\">SimpleImputer</label><div class=\"sk-toggleable__content\"><pre>SimpleImputer(strategy='median')</pre></div></div></div></div></div></div></div></div><div class=\"sk-parallel-item\"><div class=\"sk-item\"><div class=\"sk-label-container\"><div class=\"sk-label sk-toggleable\"><input class=\"sk-toggleable__control sk-hidden--visually\" id=\"b534de60-fc72-4088-96c3-d8830e55ae66\" type=\"checkbox\" ><label class=\"sk-toggleable__label\" for=\"b534de60-fc72-4088-96c3-d8830e55ae66\">cat</label><div class=\"sk-toggleable__content\"><pre>['BuildingType', 'PrimaryPropertyType', 'CouncilDistrictCode', 'Neighborhood', 'ListOfAllPropertyUseTypes', 'LargestPropertyUseType', 'PropertyName']</pre></div></div></div><div class=\"sk-serial\"><div class=\"sk-item\"><div class=\"sk-serial\"><div class=\"sk-item\"><div class=\"sk-estimator sk-toggleable\"><input class=\"sk-toggleable__control sk-hidden--visually\" id=\"5a3e2c1c-ae63-4f80-8a85-6e36b0296af1\" type=\"checkbox\" ><label class=\"sk-toggleable__label\" for=\"5a3e2c1c-ae63-4f80-8a85-6e36b0296af1\">SimpleImputer</label><div class=\"sk-toggleable__content\"><pre>SimpleImputer(strategy='most_frequent')</pre></div></div></div><div class=\"sk-item\"><div class=\"sk-estimator sk-toggleable\"><input class=\"sk-toggleable__control sk-hidden--visually\" id=\"6ad4c7ad-ddda-4171-bfb6-c481044b608c\" type=\"checkbox\" ><label class=\"sk-toggleable__label\" for=\"6ad4c7ad-ddda-4171-bfb6-c481044b608c\">LeaveOneOutEncoder</label><div class=\"sk-toggleable__content\"><pre>LeaveOneOutEncoder()</pre></div></div></div></div></div></div></div></div></div></div></div></div>"
      ],
      "text/plain": [
       "ColumnTransformer(transformers=[('num',\n",
       "                                 Pipeline(steps=[('imputer',\n",
       "                                                  SimpleImputer(strategy='median'))]),\n",
       "                                 ['YearBuilt', 'NumberofBuildings',\n",
       "                                  'NumberofFloors', 'PropertyGFAParking',\n",
       "                                  'PropertyGFABuilding(s)',\n",
       "                                  'LargestPropertyUseTypeGFA', 'Latitude',\n",
       "                                  'Longitude', 'ENERGYSTARScore']),\n",
       "                                ('cat',\n",
       "                                 Pipeline(steps=[('imputer',\n",
       "                                                  SimpleImputer(strategy='most_frequent')),\n",
       "                                                 ('loo',\n",
       "                                                  LeaveOneOutEncoder())]),\n",
       "                                 ['BuildingType', 'PrimaryPropertyType',\n",
       "                                  'CouncilDistrictCode', 'Neighborhood',\n",
       "                                  'ListOfAllPropertyUseTypes',\n",
       "                                  'LargestPropertyUseType', 'PropertyName'])])"
      ]
     },
     "execution_count": 22,
     "metadata": {},
     "output_type": "execute_result"
    }
   ],
   "source": [
    "model = RandomForestRegressor(random_state=42, n_jobs=-1)\n",
    "\n",
    "num_pipeline = Pipeline([\n",
    "    ('imputer', SimpleImputer(strategy='median')),\n",
    "    ])\n",
    "\n",
    "cat_pipeline = Pipeline([\n",
    "    ('imputer', SimpleImputer(strategy='most_frequent')),\n",
    "    ('loo', LeaveOneOutEncoder()),\n",
    "    ])\n",
    "\n",
    "preprocessing_pipeline = ColumnTransformer([\n",
    "    ('num', num_pipeline, num_attribs),\n",
    "    ('cat', cat_pipeline, cat_attribs),\n",
    "    ])\n",
    "\n",
    "preprocessing_pipeline"
   ]
  },
  {
   "cell_type": "code",
   "execution_count": 23,
   "metadata": {},
   "outputs": [
    {
     "name": "stdout",
     "output_type": "stream",
     "text": [
      "X_train_prepared shape:  (4649, 16)\n"
     ]
    },
    {
     "data": {
      "text/html": [
       "<div>\n",
       "<style scoped>\n",
       "    .dataframe tbody tr th:only-of-type {\n",
       "        vertical-align: middle;\n",
       "    }\n",
       "\n",
       "    .dataframe tbody tr th {\n",
       "        vertical-align: top;\n",
       "    }\n",
       "\n",
       "    .dataframe thead th {\n",
       "        text-align: right;\n",
       "    }\n",
       "</style>\n",
       "<table border=\"1\" class=\"dataframe\">\n",
       "  <thead>\n",
       "    <tr style=\"text-align: right;\">\n",
       "      <th></th>\n",
       "      <th>count</th>\n",
       "      <th>mean</th>\n",
       "      <th>std</th>\n",
       "      <th>min</th>\n",
       "      <th>25%</th>\n",
       "      <th>50%</th>\n",
       "      <th>75%</th>\n",
       "      <th>max</th>\n",
       "    </tr>\n",
       "  </thead>\n",
       "  <tbody>\n",
       "    <tr>\n",
       "      <th>fit_time</th>\n",
       "      <td>5.0</td>\n",
       "      <td>2.038105</td>\n",
       "      <td>0.477950</td>\n",
       "      <td>1.183979</td>\n",
       "      <td>2.234037</td>\n",
       "      <td>2.235299</td>\n",
       "      <td>2.250171</td>\n",
       "      <td>2.287039</td>\n",
       "    </tr>\n",
       "    <tr>\n",
       "      <th>score_time</th>\n",
       "      <td>5.0</td>\n",
       "      <td>0.040478</td>\n",
       "      <td>0.010972</td>\n",
       "      <td>0.031249</td>\n",
       "      <td>0.031264</td>\n",
       "      <td>0.037000</td>\n",
       "      <td>0.046002</td>\n",
       "      <td>0.056875</td>\n",
       "    </tr>\n",
       "    <tr>\n",
       "      <th>test_score</th>\n",
       "      <td>5.0</td>\n",
       "      <td>34.992693</td>\n",
       "      <td>6.823112</td>\n",
       "      <td>29.035317</td>\n",
       "      <td>31.293945</td>\n",
       "      <td>33.266289</td>\n",
       "      <td>34.798086</td>\n",
       "      <td>46.569826</td>\n",
       "    </tr>\n",
       "    <tr>\n",
       "      <th>train_score</th>\n",
       "      <td>5.0</td>\n",
       "      <td>12.593165</td>\n",
       "      <td>0.857826</td>\n",
       "      <td>11.764348</td>\n",
       "      <td>11.842705</td>\n",
       "      <td>12.667415</td>\n",
       "      <td>12.818770</td>\n",
       "      <td>13.872587</td>\n",
       "    </tr>\n",
       "  </tbody>\n",
       "</table>\n",
       "</div>"
      ],
      "text/plain": [
       "             count       mean       std        min        25%        50%  \\\n",
       "fit_time       5.0   2.038105  0.477950   1.183979   2.234037   2.235299   \n",
       "score_time     5.0   0.040478  0.010972   0.031249   0.031264   0.037000   \n",
       "test_score     5.0  34.992693  6.823112  29.035317  31.293945  33.266289   \n",
       "train_score    5.0  12.593165  0.857826  11.764348  11.842705  12.667415   \n",
       "\n",
       "                   75%        max  \n",
       "fit_time      2.250171   2.287039  \n",
       "score_time    0.046002   0.056875  \n",
       "test_score   34.798086  46.569826  \n",
       "train_score  12.818770  13.872587  "
      ]
     },
     "execution_count": 23,
     "metadata": {},
     "output_type": "execute_result"
    }
   ],
   "source": [
    "X_train_prepared = preprocessing_pipeline.fit_transform(X_train, y_train)\n",
    "print(\"X_train_prepared shape: \", X_train_prepared.shape)\n",
    "\n",
    "stats = cross_validate(model, X_train_prepared, y_train, groups=None,\n",
    "                       scoring='neg_mean_squared_error', cv=5, n_jobs=2,\n",
    "                       return_train_score=True)\n",
    "stats = pd.DataFrame(stats)\n",
    "stats['train_score'] = np.sqrt(-stats['train_score'])\n",
    "stats['test_score'] = np.sqrt(-stats['test_score'])\n",
    "stats = stats.describe().transpose()\n",
    "stats"
   ]
  },
  {
   "cell_type": "markdown",
   "metadata": {},
   "source": [
    "Les performances du `RandomForestRegressor()` sont bien meilleures que tous nos modèles linéaires. Voyons si les résultats s'améliore en rajoutant une étape de sélection de variables à l'aide de la classe `SelectKBest()` : "
   ]
  },
  {
   "cell_type": "code",
   "execution_count": 24,
   "metadata": {
    "scrolled": true
   },
   "outputs": [
    {
     "data": {
      "text/html": [
       "<style>#sk-c5b19cd8-6fb1-4851-bc69-d3c9f7f0d17b {color: black;background-color: white;}#sk-c5b19cd8-6fb1-4851-bc69-d3c9f7f0d17b pre{padding: 0;}#sk-c5b19cd8-6fb1-4851-bc69-d3c9f7f0d17b div.sk-toggleable {background-color: white;}#sk-c5b19cd8-6fb1-4851-bc69-d3c9f7f0d17b label.sk-toggleable__label {cursor: pointer;display: block;width: 100%;margin-bottom: 0;padding: 0.2em 0.3em;box-sizing: border-box;text-align: center;}#sk-c5b19cd8-6fb1-4851-bc69-d3c9f7f0d17b div.sk-toggleable__content {max-height: 0;max-width: 0;overflow: hidden;text-align: left;background-color: #f0f8ff;}#sk-c5b19cd8-6fb1-4851-bc69-d3c9f7f0d17b div.sk-toggleable__content pre {margin: 0.2em;color: black;border-radius: 0.25em;background-color: #f0f8ff;}#sk-c5b19cd8-6fb1-4851-bc69-d3c9f7f0d17b input.sk-toggleable__control:checked~div.sk-toggleable__content {max-height: 200px;max-width: 100%;overflow: auto;}#sk-c5b19cd8-6fb1-4851-bc69-d3c9f7f0d17b div.sk-estimator input.sk-toggleable__control:checked~label.sk-toggleable__label {background-color: #d4ebff;}#sk-c5b19cd8-6fb1-4851-bc69-d3c9f7f0d17b div.sk-label input.sk-toggleable__control:checked~label.sk-toggleable__label {background-color: #d4ebff;}#sk-c5b19cd8-6fb1-4851-bc69-d3c9f7f0d17b input.sk-hidden--visually {border: 0;clip: rect(1px 1px 1px 1px);clip: rect(1px, 1px, 1px, 1px);height: 1px;margin: -1px;overflow: hidden;padding: 0;position: absolute;width: 1px;}#sk-c5b19cd8-6fb1-4851-bc69-d3c9f7f0d17b div.sk-estimator {font-family: monospace;background-color: #f0f8ff;margin: 0.25em 0.25em;border: 1px dotted black;border-radius: 0.25em;box-sizing: border-box;}#sk-c5b19cd8-6fb1-4851-bc69-d3c9f7f0d17b div.sk-estimator:hover {background-color: #d4ebff;}#sk-c5b19cd8-6fb1-4851-bc69-d3c9f7f0d17b div.sk-parallel-item::after {content: \"\";width: 100%;border-bottom: 1px solid gray;flex-grow: 1;}#sk-c5b19cd8-6fb1-4851-bc69-d3c9f7f0d17b div.sk-label:hover label.sk-toggleable__label {background-color: #d4ebff;}#sk-c5b19cd8-6fb1-4851-bc69-d3c9f7f0d17b div.sk-serial::before {content: \"\";position: absolute;border-left: 1px solid gray;box-sizing: border-box;top: 2em;bottom: 0;left: 50%;}#sk-c5b19cd8-6fb1-4851-bc69-d3c9f7f0d17b div.sk-serial {display: flex;flex-direction: column;align-items: center;background-color: white;}#sk-c5b19cd8-6fb1-4851-bc69-d3c9f7f0d17b div.sk-item {z-index: 1;}#sk-c5b19cd8-6fb1-4851-bc69-d3c9f7f0d17b div.sk-parallel {display: flex;align-items: stretch;justify-content: center;background-color: white;}#sk-c5b19cd8-6fb1-4851-bc69-d3c9f7f0d17b div.sk-parallel-item {display: flex;flex-direction: column;position: relative;background-color: white;}#sk-c5b19cd8-6fb1-4851-bc69-d3c9f7f0d17b div.sk-parallel-item:first-child::after {align-self: flex-end;width: 50%;}#sk-c5b19cd8-6fb1-4851-bc69-d3c9f7f0d17b div.sk-parallel-item:last-child::after {align-self: flex-start;width: 50%;}#sk-c5b19cd8-6fb1-4851-bc69-d3c9f7f0d17b div.sk-parallel-item:only-child::after {width: 0;}#sk-c5b19cd8-6fb1-4851-bc69-d3c9f7f0d17b div.sk-dashed-wrapped {border: 1px dashed gray;margin: 0.2em;box-sizing: border-box;padding-bottom: 0.1em;background-color: white;position: relative;}#sk-c5b19cd8-6fb1-4851-bc69-d3c9f7f0d17b div.sk-label label {font-family: monospace;font-weight: bold;background-color: white;display: inline-block;line-height: 1.2em;}#sk-c5b19cd8-6fb1-4851-bc69-d3c9f7f0d17b div.sk-label-container {position: relative;z-index: 2;text-align: center;}#sk-c5b19cd8-6fb1-4851-bc69-d3c9f7f0d17b div.sk-container {display: inline-block;position: relative;}</style><div id=\"sk-c5b19cd8-6fb1-4851-bc69-d3c9f7f0d17b\" class\"sk-top-container\"><div class=\"sk-container\"><div class=\"sk-item sk-dashed-wrapped\"><div class=\"sk-label-container\"><div class=\"sk-label sk-toggleable\"><input class=\"sk-toggleable__control sk-hidden--visually\" id=\"10be4176-ef34-4f7d-9367-62663a61fb27\" type=\"checkbox\" ><label class=\"sk-toggleable__label\" for=\"10be4176-ef34-4f7d-9367-62663a61fb27\">Pipeline</label><div class=\"sk-toggleable__content\"><pre>Pipeline(steps=[('preprocessing',\n",
       "                 ColumnTransformer(transformers=[('num',\n",
       "                                                  Pipeline(steps=[('imputer',\n",
       "                                                                   SimpleImputer(strategy='median'))]),\n",
       "                                                  ['YearBuilt',\n",
       "                                                   'NumberofBuildings',\n",
       "                                                   'NumberofFloors',\n",
       "                                                   'PropertyGFAParking',\n",
       "                                                   'PropertyGFABuilding(s)',\n",
       "                                                   'LargestPropertyUseTypeGFA',\n",
       "                                                   'Latitude', 'Longitude',\n",
       "                                                   'ENERGYSTARScore']),\n",
       "                                                 ('cat',\n",
       "                                                  Pipeline(steps=[('imputer',\n",
       "                                                                   SimpleImputer(strategy='most_frequent')),\n",
       "                                                                  ('loo',\n",
       "                                                                   LeaveOneOutEncoder())]),\n",
       "                                                  ['BuildingType',\n",
       "                                                   'PrimaryPropertyType',\n",
       "                                                   'CouncilDistrictCode',\n",
       "                                                   'Neighborhood',\n",
       "                                                   'ListOfAllPropertyUseTypes',\n",
       "                                                   'LargestPropertyUseType',\n",
       "                                                   'PropertyName'])])),\n",
       "                ('feature_selection',\n",
       "                 SelectKBest(k=8,\n",
       "                             score_func=<function mutual_info_regression at 0x0000026DA2E42A60>))])</pre></div></div></div><div class=\"sk-serial\"><div class=\"sk-item sk-dashed-wrapped\"><div class=\"sk-label-container\"><div class=\"sk-label sk-toggleable\"><input class=\"sk-toggleable__control sk-hidden--visually\" id=\"5e944e43-618c-4bf8-83d5-07526004b805\" type=\"checkbox\" ><label class=\"sk-toggleable__label\" for=\"5e944e43-618c-4bf8-83d5-07526004b805\">preprocessing: ColumnTransformer</label><div class=\"sk-toggleable__content\"><pre>ColumnTransformer(transformers=[('num',\n",
       "                                 Pipeline(steps=[('imputer',\n",
       "                                                  SimpleImputer(strategy='median'))]),\n",
       "                                 ['YearBuilt', 'NumberofBuildings',\n",
       "                                  'NumberofFloors', 'PropertyGFAParking',\n",
       "                                  'PropertyGFABuilding(s)',\n",
       "                                  'LargestPropertyUseTypeGFA', 'Latitude',\n",
       "                                  'Longitude', 'ENERGYSTARScore']),\n",
       "                                ('cat',\n",
       "                                 Pipeline(steps=[('imputer',\n",
       "                                                  SimpleImputer(strategy='most_frequent')),\n",
       "                                                 ('loo',\n",
       "                                                  LeaveOneOutEncoder())]),\n",
       "                                 ['BuildingType', 'PrimaryPropertyType',\n",
       "                                  'CouncilDistrictCode', 'Neighborhood',\n",
       "                                  'ListOfAllPropertyUseTypes',\n",
       "                                  'LargestPropertyUseType', 'PropertyName'])])</pre></div></div></div><div class=\"sk-parallel\"><div class=\"sk-parallel-item\"><div class=\"sk-item\"><div class=\"sk-label-container\"><div class=\"sk-label sk-toggleable\"><input class=\"sk-toggleable__control sk-hidden--visually\" id=\"6e38f7d5-c955-47e8-b462-8385f890dcba\" type=\"checkbox\" ><label class=\"sk-toggleable__label\" for=\"6e38f7d5-c955-47e8-b462-8385f890dcba\">num</label><div class=\"sk-toggleable__content\"><pre>['YearBuilt', 'NumberofBuildings', 'NumberofFloors', 'PropertyGFAParking', 'PropertyGFABuilding(s)', 'LargestPropertyUseTypeGFA', 'Latitude', 'Longitude', 'ENERGYSTARScore']</pre></div></div></div><div class=\"sk-serial\"><div class=\"sk-item\"><div class=\"sk-serial\"><div class=\"sk-item\"><div class=\"sk-estimator sk-toggleable\"><input class=\"sk-toggleable__control sk-hidden--visually\" id=\"4457a4bd-99ab-4ee6-8a1c-7ac50ff41e58\" type=\"checkbox\" ><label class=\"sk-toggleable__label\" for=\"4457a4bd-99ab-4ee6-8a1c-7ac50ff41e58\">SimpleImputer</label><div class=\"sk-toggleable__content\"><pre>SimpleImputer(strategy='median')</pre></div></div></div></div></div></div></div></div><div class=\"sk-parallel-item\"><div class=\"sk-item\"><div class=\"sk-label-container\"><div class=\"sk-label sk-toggleable\"><input class=\"sk-toggleable__control sk-hidden--visually\" id=\"2b8b26c3-8bc3-4bfb-8ba0-9fe5437d300c\" type=\"checkbox\" ><label class=\"sk-toggleable__label\" for=\"2b8b26c3-8bc3-4bfb-8ba0-9fe5437d300c\">cat</label><div class=\"sk-toggleable__content\"><pre>['BuildingType', 'PrimaryPropertyType', 'CouncilDistrictCode', 'Neighborhood', 'ListOfAllPropertyUseTypes', 'LargestPropertyUseType', 'PropertyName']</pre></div></div></div><div class=\"sk-serial\"><div class=\"sk-item\"><div class=\"sk-serial\"><div class=\"sk-item\"><div class=\"sk-estimator sk-toggleable\"><input class=\"sk-toggleable__control sk-hidden--visually\" id=\"0beec7ae-45dd-4eda-9798-93ac41f1a8f2\" type=\"checkbox\" ><label class=\"sk-toggleable__label\" for=\"0beec7ae-45dd-4eda-9798-93ac41f1a8f2\">SimpleImputer</label><div class=\"sk-toggleable__content\"><pre>SimpleImputer(strategy='most_frequent')</pre></div></div></div><div class=\"sk-item\"><div class=\"sk-estimator sk-toggleable\"><input class=\"sk-toggleable__control sk-hidden--visually\" id=\"0d8a72fa-1201-4549-ba69-8c0e0d5f6090\" type=\"checkbox\" ><label class=\"sk-toggleable__label\" for=\"0d8a72fa-1201-4549-ba69-8c0e0d5f6090\">LeaveOneOutEncoder</label><div class=\"sk-toggleable__content\"><pre>LeaveOneOutEncoder()</pre></div></div></div></div></div></div></div></div></div></div><div class=\"sk-item\"><div class=\"sk-estimator sk-toggleable\"><input class=\"sk-toggleable__control sk-hidden--visually\" id=\"d2aa1230-9d0d-41a8-aa83-071e593da840\" type=\"checkbox\" ><label class=\"sk-toggleable__label\" for=\"d2aa1230-9d0d-41a8-aa83-071e593da840\">SelectKBest</label><div class=\"sk-toggleable__content\"><pre>SelectKBest(k=8,\n",
       "            score_func=<function mutual_info_regression at 0x0000026DA2E42A60>)</pre></div></div></div></div></div></div></div>"
      ],
      "text/plain": [
       "Pipeline(steps=[('preprocessing',\n",
       "                 ColumnTransformer(transformers=[('num',\n",
       "                                                  Pipeline(steps=[('imputer',\n",
       "                                                                   SimpleImputer(strategy='median'))]),\n",
       "                                                  ['YearBuilt',\n",
       "                                                   'NumberofBuildings',\n",
       "                                                   'NumberofFloors',\n",
       "                                                   'PropertyGFAParking',\n",
       "                                                   'PropertyGFABuilding(s)',\n",
       "                                                   'LargestPropertyUseTypeGFA',\n",
       "                                                   'Latitude', 'Longitude',\n",
       "                                                   'ENERGYSTARScore']),\n",
       "                                                 ('cat',\n",
       "                                                  Pipeline(steps=[('imputer',\n",
       "                                                                   SimpleImputer(strategy='most_frequent')),\n",
       "                                                                  ('loo',\n",
       "                                                                   LeaveOneOutEncoder())]),\n",
       "                                                  ['BuildingType',\n",
       "                                                   'PrimaryPropertyType',\n",
       "                                                   'CouncilDistrictCode',\n",
       "                                                   'Neighborhood',\n",
       "                                                   'ListOfAllPropertyUseTypes',\n",
       "                                                   'LargestPropertyUseType',\n",
       "                                                   'PropertyName'])])),\n",
       "                ('feature_selection',\n",
       "                 SelectKBest(k=8,\n",
       "                             score_func=<function mutual_info_regression at 0x0000026DA2E42A60>))])"
      ]
     },
     "execution_count": 24,
     "metadata": {},
     "output_type": "execute_result"
    }
   ],
   "source": [
    "preprocessing_and_feature_selection_pipeline = Pipeline([\n",
    "    ('preprocessing', preprocessing_pipeline),\n",
    "    ('feature_selection', SelectKBest(k=8, score_func=mutual_info_regression))\n",
    "])\n",
    "\n",
    "preprocessing_and_feature_selection_pipeline"
   ]
  },
  {
   "cell_type": "code",
   "execution_count": 25,
   "metadata": {},
   "outputs": [
    {
     "data": {
      "text/html": [
       "<div>\n",
       "<style scoped>\n",
       "    .dataframe tbody tr th:only-of-type {\n",
       "        vertical-align: middle;\n",
       "    }\n",
       "\n",
       "    .dataframe tbody tr th {\n",
       "        vertical-align: top;\n",
       "    }\n",
       "\n",
       "    .dataframe thead th {\n",
       "        text-align: right;\n",
       "    }\n",
       "</style>\n",
       "<table border=\"1\" class=\"dataframe\">\n",
       "  <thead>\n",
       "    <tr style=\"text-align: right;\">\n",
       "      <th></th>\n",
       "      <th>count</th>\n",
       "      <th>mean</th>\n",
       "      <th>std</th>\n",
       "      <th>min</th>\n",
       "      <th>25%</th>\n",
       "      <th>50%</th>\n",
       "      <th>75%</th>\n",
       "      <th>max</th>\n",
       "    </tr>\n",
       "  </thead>\n",
       "  <tbody>\n",
       "    <tr>\n",
       "      <th>fit_time</th>\n",
       "      <td>5.0</td>\n",
       "      <td>1.359955</td>\n",
       "      <td>0.275116</td>\n",
       "      <td>0.872463</td>\n",
       "      <td>1.446637</td>\n",
       "      <td>1.463628</td>\n",
       "      <td>1.471800</td>\n",
       "      <td>1.545250</td>\n",
       "    </tr>\n",
       "    <tr>\n",
       "      <th>score_time</th>\n",
       "      <td>5.0</td>\n",
       "      <td>0.032921</td>\n",
       "      <td>0.017239</td>\n",
       "      <td>0.015626</td>\n",
       "      <td>0.016991</td>\n",
       "      <td>0.031252</td>\n",
       "      <td>0.046882</td>\n",
       "      <td>0.053854</td>\n",
       "    </tr>\n",
       "    <tr>\n",
       "      <th>test_score</th>\n",
       "      <td>5.0</td>\n",
       "      <td>30.401904</td>\n",
       "      <td>6.314974</td>\n",
       "      <td>25.443477</td>\n",
       "      <td>26.222713</td>\n",
       "      <td>28.504653</td>\n",
       "      <td>30.772486</td>\n",
       "      <td>41.066192</td>\n",
       "    </tr>\n",
       "    <tr>\n",
       "      <th>train_score</th>\n",
       "      <td>5.0</td>\n",
       "      <td>11.185847</td>\n",
       "      <td>0.569797</td>\n",
       "      <td>10.512566</td>\n",
       "      <td>11.019693</td>\n",
       "      <td>11.038467</td>\n",
       "      <td>11.286105</td>\n",
       "      <td>12.072406</td>\n",
       "    </tr>\n",
       "  </tbody>\n",
       "</table>\n",
       "</div>"
      ],
      "text/plain": [
       "             count       mean       std        min        25%        50%  \\\n",
       "fit_time       5.0   1.359955  0.275116   0.872463   1.446637   1.463628   \n",
       "score_time     5.0   0.032921  0.017239   0.015626   0.016991   0.031252   \n",
       "test_score     5.0  30.401904  6.314974  25.443477  26.222713  28.504653   \n",
       "train_score    5.0  11.185847  0.569797  10.512566  11.019693  11.038467   \n",
       "\n",
       "                   75%        max  \n",
       "fit_time      1.471800   1.545250  \n",
       "score_time    0.046882   0.053854  \n",
       "test_score   30.772486  41.066192  \n",
       "train_score  11.286105  12.072406  "
      ]
     },
     "execution_count": 25,
     "metadata": {},
     "output_type": "execute_result"
    }
   ],
   "source": [
    "X_train_prepared = preprocessing_and_feature_selection_pipeline.fit_transform(X_train, y_train)\n",
    "\n",
    "stats = cross_validate(model, X_train_prepared, y_train, groups=None,\n",
    "                       scoring='neg_mean_squared_error', cv=5, n_jobs=2,\n",
    "                       return_train_score=True)\n",
    "\n",
    "stats = pd.DataFrame(stats)\n",
    "stats['train_score'] = np.sqrt(-stats['train_score'])\n",
    "stats['test_score'] = np.sqrt(-stats['test_score'])\n",
    "stats = stats.describe().transpose()\n",
    "stats"
   ]
  },
  {
   "cell_type": "markdown",
   "metadata": {},
   "source": [
    "Les performances se sont améliorées, passant d'un RMSE moyen sur les jeux de validation de 34,99 à 30,40. Et si nous ajoutions une étape __d'expansion polynomiale__ ?"
   ]
  },
  {
   "cell_type": "code",
   "execution_count": 26,
   "metadata": {},
   "outputs": [
    {
     "data": {
      "text/html": [
       "<style>#sk-7745bbd9-815b-488e-90af-328b1714a107 {color: black;background-color: white;}#sk-7745bbd9-815b-488e-90af-328b1714a107 pre{padding: 0;}#sk-7745bbd9-815b-488e-90af-328b1714a107 div.sk-toggleable {background-color: white;}#sk-7745bbd9-815b-488e-90af-328b1714a107 label.sk-toggleable__label {cursor: pointer;display: block;width: 100%;margin-bottom: 0;padding: 0.2em 0.3em;box-sizing: border-box;text-align: center;}#sk-7745bbd9-815b-488e-90af-328b1714a107 div.sk-toggleable__content {max-height: 0;max-width: 0;overflow: hidden;text-align: left;background-color: #f0f8ff;}#sk-7745bbd9-815b-488e-90af-328b1714a107 div.sk-toggleable__content pre {margin: 0.2em;color: black;border-radius: 0.25em;background-color: #f0f8ff;}#sk-7745bbd9-815b-488e-90af-328b1714a107 input.sk-toggleable__control:checked~div.sk-toggleable__content {max-height: 200px;max-width: 100%;overflow: auto;}#sk-7745bbd9-815b-488e-90af-328b1714a107 div.sk-estimator input.sk-toggleable__control:checked~label.sk-toggleable__label {background-color: #d4ebff;}#sk-7745bbd9-815b-488e-90af-328b1714a107 div.sk-label input.sk-toggleable__control:checked~label.sk-toggleable__label {background-color: #d4ebff;}#sk-7745bbd9-815b-488e-90af-328b1714a107 input.sk-hidden--visually {border: 0;clip: rect(1px 1px 1px 1px);clip: rect(1px, 1px, 1px, 1px);height: 1px;margin: -1px;overflow: hidden;padding: 0;position: absolute;width: 1px;}#sk-7745bbd9-815b-488e-90af-328b1714a107 div.sk-estimator {font-family: monospace;background-color: #f0f8ff;margin: 0.25em 0.25em;border: 1px dotted black;border-radius: 0.25em;box-sizing: border-box;}#sk-7745bbd9-815b-488e-90af-328b1714a107 div.sk-estimator:hover {background-color: #d4ebff;}#sk-7745bbd9-815b-488e-90af-328b1714a107 div.sk-parallel-item::after {content: \"\";width: 100%;border-bottom: 1px solid gray;flex-grow: 1;}#sk-7745bbd9-815b-488e-90af-328b1714a107 div.sk-label:hover label.sk-toggleable__label {background-color: #d4ebff;}#sk-7745bbd9-815b-488e-90af-328b1714a107 div.sk-serial::before {content: \"\";position: absolute;border-left: 1px solid gray;box-sizing: border-box;top: 2em;bottom: 0;left: 50%;}#sk-7745bbd9-815b-488e-90af-328b1714a107 div.sk-serial {display: flex;flex-direction: column;align-items: center;background-color: white;}#sk-7745bbd9-815b-488e-90af-328b1714a107 div.sk-item {z-index: 1;}#sk-7745bbd9-815b-488e-90af-328b1714a107 div.sk-parallel {display: flex;align-items: stretch;justify-content: center;background-color: white;}#sk-7745bbd9-815b-488e-90af-328b1714a107 div.sk-parallel-item {display: flex;flex-direction: column;position: relative;background-color: white;}#sk-7745bbd9-815b-488e-90af-328b1714a107 div.sk-parallel-item:first-child::after {align-self: flex-end;width: 50%;}#sk-7745bbd9-815b-488e-90af-328b1714a107 div.sk-parallel-item:last-child::after {align-self: flex-start;width: 50%;}#sk-7745bbd9-815b-488e-90af-328b1714a107 div.sk-parallel-item:only-child::after {width: 0;}#sk-7745bbd9-815b-488e-90af-328b1714a107 div.sk-dashed-wrapped {border: 1px dashed gray;margin: 0.2em;box-sizing: border-box;padding-bottom: 0.1em;background-color: white;position: relative;}#sk-7745bbd9-815b-488e-90af-328b1714a107 div.sk-label label {font-family: monospace;font-weight: bold;background-color: white;display: inline-block;line-height: 1.2em;}#sk-7745bbd9-815b-488e-90af-328b1714a107 div.sk-label-container {position: relative;z-index: 2;text-align: center;}#sk-7745bbd9-815b-488e-90af-328b1714a107 div.sk-container {display: inline-block;position: relative;}</style><div id=\"sk-7745bbd9-815b-488e-90af-328b1714a107\" class\"sk-top-container\"><div class=\"sk-container\"><div class=\"sk-item sk-dashed-wrapped\"><div class=\"sk-label-container\"><div class=\"sk-label sk-toggleable\"><input class=\"sk-toggleable__control sk-hidden--visually\" id=\"def8d333-fc4b-4afc-804f-4babbd466ed6\" type=\"checkbox\" ><label class=\"sk-toggleable__label\" for=\"def8d333-fc4b-4afc-804f-4babbd466ed6\">Pipeline</label><div class=\"sk-toggleable__content\"><pre>Pipeline(steps=[('preprocessing',\n",
       "                 ColumnTransformer(transformers=[('num',\n",
       "                                                  Pipeline(steps=[('imputer',\n",
       "                                                                   SimpleImputer(strategy='median'))]),\n",
       "                                                  ['YearBuilt',\n",
       "                                                   'NumberofBuildings',\n",
       "                                                   'NumberofFloors',\n",
       "                                                   'PropertyGFAParking',\n",
       "                                                   'PropertyGFABuilding(s)',\n",
       "                                                   'LargestPropertyUseTypeGFA',\n",
       "                                                   'Latitude', 'Longitude',\n",
       "                                                   'ENERGYSTARScore']),\n",
       "                                                 ('cat',\n",
       "                                                  Pipeline(steps=[('imputer',\n",
       "                                                                   SimpleImputer(...='most_frequent')),\n",
       "                                                                  ('loo',\n",
       "                                                                   LeaveOneOutEncoder())]),\n",
       "                                                  ['BuildingType',\n",
       "                                                   'PrimaryPropertyType',\n",
       "                                                   'CouncilDistrictCode',\n",
       "                                                   'Neighborhood',\n",
       "                                                   'ListOfAllPropertyUseTypes',\n",
       "                                                   'LargestPropertyUseType',\n",
       "                                                   'PropertyName'])])),\n",
       "                ('poly', PolynomialFeatures(include_bias=False)),\n",
       "                ('feature_selection',\n",
       "                 SelectKBest(k=8,\n",
       "                             score_func=<function mutual_info_regression at 0x0000026DA2E42A60>))])</pre></div></div></div><div class=\"sk-serial\"><div class=\"sk-item sk-dashed-wrapped\"><div class=\"sk-label-container\"><div class=\"sk-label sk-toggleable\"><input class=\"sk-toggleable__control sk-hidden--visually\" id=\"2970ea7d-f3f7-4200-8f69-b3bdfe57427a\" type=\"checkbox\" ><label class=\"sk-toggleable__label\" for=\"2970ea7d-f3f7-4200-8f69-b3bdfe57427a\">preprocessing: ColumnTransformer</label><div class=\"sk-toggleable__content\"><pre>ColumnTransformer(transformers=[('num',\n",
       "                                 Pipeline(steps=[('imputer',\n",
       "                                                  SimpleImputer(strategy='median'))]),\n",
       "                                 ['YearBuilt', 'NumberofBuildings',\n",
       "                                  'NumberofFloors', 'PropertyGFAParking',\n",
       "                                  'PropertyGFABuilding(s)',\n",
       "                                  'LargestPropertyUseTypeGFA', 'Latitude',\n",
       "                                  'Longitude', 'ENERGYSTARScore']),\n",
       "                                ('cat',\n",
       "                                 Pipeline(steps=[('imputer',\n",
       "                                                  SimpleImputer(strategy='most_frequent')),\n",
       "                                                 ('loo',\n",
       "                                                  LeaveOneOutEncoder())]),\n",
       "                                 ['BuildingType', 'PrimaryPropertyType',\n",
       "                                  'CouncilDistrictCode', 'Neighborhood',\n",
       "                                  'ListOfAllPropertyUseTypes',\n",
       "                                  'LargestPropertyUseType', 'PropertyName'])])</pre></div></div></div><div class=\"sk-parallel\"><div class=\"sk-parallel-item\"><div class=\"sk-item\"><div class=\"sk-label-container\"><div class=\"sk-label sk-toggleable\"><input class=\"sk-toggleable__control sk-hidden--visually\" id=\"22d04618-3be8-4d6e-891f-55cdacc7454f\" type=\"checkbox\" ><label class=\"sk-toggleable__label\" for=\"22d04618-3be8-4d6e-891f-55cdacc7454f\">num</label><div class=\"sk-toggleable__content\"><pre>['YearBuilt', 'NumberofBuildings', 'NumberofFloors', 'PropertyGFAParking', 'PropertyGFABuilding(s)', 'LargestPropertyUseTypeGFA', 'Latitude', 'Longitude', 'ENERGYSTARScore']</pre></div></div></div><div class=\"sk-serial\"><div class=\"sk-item\"><div class=\"sk-serial\"><div class=\"sk-item\"><div class=\"sk-estimator sk-toggleable\"><input class=\"sk-toggleable__control sk-hidden--visually\" id=\"e6e4b224-422e-4f49-90ac-c9ca6e39cca7\" type=\"checkbox\" ><label class=\"sk-toggleable__label\" for=\"e6e4b224-422e-4f49-90ac-c9ca6e39cca7\">SimpleImputer</label><div class=\"sk-toggleable__content\"><pre>SimpleImputer(strategy='median')</pre></div></div></div></div></div></div></div></div><div class=\"sk-parallel-item\"><div class=\"sk-item\"><div class=\"sk-label-container\"><div class=\"sk-label sk-toggleable\"><input class=\"sk-toggleable__control sk-hidden--visually\" id=\"6aa70b7c-6858-47b1-be1d-b534300cc7cf\" type=\"checkbox\" ><label class=\"sk-toggleable__label\" for=\"6aa70b7c-6858-47b1-be1d-b534300cc7cf\">cat</label><div class=\"sk-toggleable__content\"><pre>['BuildingType', 'PrimaryPropertyType', 'CouncilDistrictCode', 'Neighborhood', 'ListOfAllPropertyUseTypes', 'LargestPropertyUseType', 'PropertyName']</pre></div></div></div><div class=\"sk-serial\"><div class=\"sk-item\"><div class=\"sk-serial\"><div class=\"sk-item\"><div class=\"sk-estimator sk-toggleable\"><input class=\"sk-toggleable__control sk-hidden--visually\" id=\"7e7e3672-e478-4217-ace5-65da51ba35f9\" type=\"checkbox\" ><label class=\"sk-toggleable__label\" for=\"7e7e3672-e478-4217-ace5-65da51ba35f9\">SimpleImputer</label><div class=\"sk-toggleable__content\"><pre>SimpleImputer(strategy='most_frequent')</pre></div></div></div><div class=\"sk-item\"><div class=\"sk-estimator sk-toggleable\"><input class=\"sk-toggleable__control sk-hidden--visually\" id=\"bff3cbc9-7691-42f8-9390-409d36c0fe88\" type=\"checkbox\" ><label class=\"sk-toggleable__label\" for=\"bff3cbc9-7691-42f8-9390-409d36c0fe88\">LeaveOneOutEncoder</label><div class=\"sk-toggleable__content\"><pre>LeaveOneOutEncoder()</pre></div></div></div></div></div></div></div></div></div></div><div class=\"sk-item\"><div class=\"sk-estimator sk-toggleable\"><input class=\"sk-toggleable__control sk-hidden--visually\" id=\"0d42625c-f734-442c-beae-ea44d93f44e1\" type=\"checkbox\" ><label class=\"sk-toggleable__label\" for=\"0d42625c-f734-442c-beae-ea44d93f44e1\">PolynomialFeatures</label><div class=\"sk-toggleable__content\"><pre>PolynomialFeatures(include_bias=False)</pre></div></div></div><div class=\"sk-item\"><div class=\"sk-estimator sk-toggleable\"><input class=\"sk-toggleable__control sk-hidden--visually\" id=\"f3af70d9-0167-4abe-85da-5856885aafb7\" type=\"checkbox\" ><label class=\"sk-toggleable__label\" for=\"f3af70d9-0167-4abe-85da-5856885aafb7\">SelectKBest</label><div class=\"sk-toggleable__content\"><pre>SelectKBest(k=8,\n",
       "            score_func=<function mutual_info_regression at 0x0000026DA2E42A60>)</pre></div></div></div></div></div></div></div>"
      ],
      "text/plain": [
       "Pipeline(steps=[('preprocessing',\n",
       "                 ColumnTransformer(transformers=[('num',\n",
       "                                                  Pipeline(steps=[('imputer',\n",
       "                                                                   SimpleImputer(strategy='median'))]),\n",
       "                                                  ['YearBuilt',\n",
       "                                                   'NumberofBuildings',\n",
       "                                                   'NumberofFloors',\n",
       "                                                   'PropertyGFAParking',\n",
       "                                                   'PropertyGFABuilding(s)',\n",
       "                                                   'LargestPropertyUseTypeGFA',\n",
       "                                                   'Latitude', 'Longitude',\n",
       "                                                   'ENERGYSTARScore']),\n",
       "                                                 ('cat',\n",
       "                                                  Pipeline(steps=[('imputer',\n",
       "                                                                   SimpleImputer(...='most_frequent')),\n",
       "                                                                  ('loo',\n",
       "                                                                   LeaveOneOutEncoder())]),\n",
       "                                                  ['BuildingType',\n",
       "                                                   'PrimaryPropertyType',\n",
       "                                                   'CouncilDistrictCode',\n",
       "                                                   'Neighborhood',\n",
       "                                                   'ListOfAllPropertyUseTypes',\n",
       "                                                   'LargestPropertyUseType',\n",
       "                                                   'PropertyName'])])),\n",
       "                ('poly', PolynomialFeatures(include_bias=False)),\n",
       "                ('feature_selection',\n",
       "                 SelectKBest(k=8,\n",
       "                             score_func=<function mutual_info_regression at 0x0000026DA2E42A60>))])"
      ]
     },
     "execution_count": 26,
     "metadata": {},
     "output_type": "execute_result"
    }
   ],
   "source": [
    "preprocessing_and_feature_selection_pipeline = Pipeline([\n",
    "    ('preprocessing', preprocessing_pipeline),\n",
    "    ('poly', PolynomialFeatures(degree=2, include_bias=False)),\n",
    "    ('feature_selection', SelectKBest(k=8, score_func=mutual_info_regression))\n",
    "])\n",
    "\n",
    "preprocessing_and_feature_selection_pipeline"
   ]
  },
  {
   "cell_type": "code",
   "execution_count": 27,
   "metadata": {},
   "outputs": [
    {
     "data": {
      "text/html": [
       "<div>\n",
       "<style scoped>\n",
       "    .dataframe tbody tr th:only-of-type {\n",
       "        vertical-align: middle;\n",
       "    }\n",
       "\n",
       "    .dataframe tbody tr th {\n",
       "        vertical-align: top;\n",
       "    }\n",
       "\n",
       "    .dataframe thead th {\n",
       "        text-align: right;\n",
       "    }\n",
       "</style>\n",
       "<table border=\"1\" class=\"dataframe\">\n",
       "  <thead>\n",
       "    <tr style=\"text-align: right;\">\n",
       "      <th></th>\n",
       "      <th>count</th>\n",
       "      <th>mean</th>\n",
       "      <th>std</th>\n",
       "      <th>min</th>\n",
       "      <th>25%</th>\n",
       "      <th>50%</th>\n",
       "      <th>75%</th>\n",
       "      <th>max</th>\n",
       "    </tr>\n",
       "  </thead>\n",
       "  <tbody>\n",
       "    <tr>\n",
       "      <th>fit_time</th>\n",
       "      <td>5.0</td>\n",
       "      <td>1.250941</td>\n",
       "      <td>0.283462</td>\n",
       "      <td>0.744009</td>\n",
       "      <td>1.370103</td>\n",
       "      <td>1.372437</td>\n",
       "      <td>1.381723</td>\n",
       "      <td>1.386434</td>\n",
       "    </tr>\n",
       "    <tr>\n",
       "      <th>score_time</th>\n",
       "      <td>5.0</td>\n",
       "      <td>0.031434</td>\n",
       "      <td>0.009663</td>\n",
       "      <td>0.018063</td>\n",
       "      <td>0.026999</td>\n",
       "      <td>0.031248</td>\n",
       "      <td>0.037860</td>\n",
       "      <td>0.042999</td>\n",
       "    </tr>\n",
       "    <tr>\n",
       "      <th>test_score</th>\n",
       "      <td>5.0</td>\n",
       "      <td>20.238114</td>\n",
       "      <td>7.368957</td>\n",
       "      <td>12.366080</td>\n",
       "      <td>16.016703</td>\n",
       "      <td>18.998769</td>\n",
       "      <td>22.056869</td>\n",
       "      <td>31.752151</td>\n",
       "    </tr>\n",
       "    <tr>\n",
       "      <th>train_score</th>\n",
       "      <td>5.0</td>\n",
       "      <td>7.519714</td>\n",
       "      <td>0.831935</td>\n",
       "      <td>6.313524</td>\n",
       "      <td>7.327218</td>\n",
       "      <td>7.367925</td>\n",
       "      <td>8.134512</td>\n",
       "      <td>8.455393</td>\n",
       "    </tr>\n",
       "  </tbody>\n",
       "</table>\n",
       "</div>"
      ],
      "text/plain": [
       "             count       mean       std        min        25%        50%  \\\n",
       "fit_time       5.0   1.250941  0.283462   0.744009   1.370103   1.372437   \n",
       "score_time     5.0   0.031434  0.009663   0.018063   0.026999   0.031248   \n",
       "test_score     5.0  20.238114  7.368957  12.366080  16.016703  18.998769   \n",
       "train_score    5.0   7.519714  0.831935   6.313524   7.327218   7.367925   \n",
       "\n",
       "                   75%        max  \n",
       "fit_time      1.381723   1.386434  \n",
       "score_time    0.037860   0.042999  \n",
       "test_score   22.056869  31.752151  \n",
       "train_score   8.134512   8.455393  "
      ]
     },
     "execution_count": 27,
     "metadata": {},
     "output_type": "execute_result"
    }
   ],
   "source": [
    "X_train_prepared = preprocessing_and_feature_selection_pipeline.fit_transform(X_train, y_train)\n",
    "\n",
    "stats = cross_validate(model, X_train_prepared, y_train, groups=None,\n",
    "                       scoring='neg_mean_squared_error', cv=5, n_jobs=2,\n",
    "                       return_train_score=True)\n",
    "\n",
    "stats = pd.DataFrame(stats)\n",
    "stats['train_score'] = np.sqrt(-stats['train_score'])\n",
    "stats['test_score'] = np.sqrt(-stats['test_score'])\n",
    "stats = stats.describe().transpose()\n",
    "stats"
   ]
  },
  {
   "cell_type": "markdown",
   "metadata": {},
   "source": [
    "Le RMSE moyen sur les données de validation passe de __30,40__ à __20,24__. Belle amélioration ! Nous garderons ce modèle pour calibrer avec précision ses hyperparamètres."
   ]
  },
  {
   "cell_type": "markdown",
   "metadata": {},
   "source": [
    "# Recherche par quadrillage des hyperparamètres"
   ]
  },
  {
   "cell_type": "code",
   "execution_count": 143,
   "metadata": {},
   "outputs": [
    {
     "data": {
      "text/html": [
       "<style>#sk-f2323004-a5b7-4290-bafa-e177d9f5b0e8 {color: black;background-color: white;}#sk-f2323004-a5b7-4290-bafa-e177d9f5b0e8 pre{padding: 0;}#sk-f2323004-a5b7-4290-bafa-e177d9f5b0e8 div.sk-toggleable {background-color: white;}#sk-f2323004-a5b7-4290-bafa-e177d9f5b0e8 label.sk-toggleable__label {cursor: pointer;display: block;width: 100%;margin-bottom: 0;padding: 0.2em 0.3em;box-sizing: border-box;text-align: center;}#sk-f2323004-a5b7-4290-bafa-e177d9f5b0e8 div.sk-toggleable__content {max-height: 0;max-width: 0;overflow: hidden;text-align: left;background-color: #f0f8ff;}#sk-f2323004-a5b7-4290-bafa-e177d9f5b0e8 div.sk-toggleable__content pre {margin: 0.2em;color: black;border-radius: 0.25em;background-color: #f0f8ff;}#sk-f2323004-a5b7-4290-bafa-e177d9f5b0e8 input.sk-toggleable__control:checked~div.sk-toggleable__content {max-height: 200px;max-width: 100%;overflow: auto;}#sk-f2323004-a5b7-4290-bafa-e177d9f5b0e8 div.sk-estimator input.sk-toggleable__control:checked~label.sk-toggleable__label {background-color: #d4ebff;}#sk-f2323004-a5b7-4290-bafa-e177d9f5b0e8 div.sk-label input.sk-toggleable__control:checked~label.sk-toggleable__label {background-color: #d4ebff;}#sk-f2323004-a5b7-4290-bafa-e177d9f5b0e8 input.sk-hidden--visually {border: 0;clip: rect(1px 1px 1px 1px);clip: rect(1px, 1px, 1px, 1px);height: 1px;margin: -1px;overflow: hidden;padding: 0;position: absolute;width: 1px;}#sk-f2323004-a5b7-4290-bafa-e177d9f5b0e8 div.sk-estimator {font-family: monospace;background-color: #f0f8ff;margin: 0.25em 0.25em;border: 1px dotted black;border-radius: 0.25em;box-sizing: border-box;}#sk-f2323004-a5b7-4290-bafa-e177d9f5b0e8 div.sk-estimator:hover {background-color: #d4ebff;}#sk-f2323004-a5b7-4290-bafa-e177d9f5b0e8 div.sk-parallel-item::after {content: \"\";width: 100%;border-bottom: 1px solid gray;flex-grow: 1;}#sk-f2323004-a5b7-4290-bafa-e177d9f5b0e8 div.sk-label:hover label.sk-toggleable__label {background-color: #d4ebff;}#sk-f2323004-a5b7-4290-bafa-e177d9f5b0e8 div.sk-serial::before {content: \"\";position: absolute;border-left: 1px solid gray;box-sizing: border-box;top: 2em;bottom: 0;left: 50%;}#sk-f2323004-a5b7-4290-bafa-e177d9f5b0e8 div.sk-serial {display: flex;flex-direction: column;align-items: center;background-color: white;}#sk-f2323004-a5b7-4290-bafa-e177d9f5b0e8 div.sk-item {z-index: 1;}#sk-f2323004-a5b7-4290-bafa-e177d9f5b0e8 div.sk-parallel {display: flex;align-items: stretch;justify-content: center;background-color: white;}#sk-f2323004-a5b7-4290-bafa-e177d9f5b0e8 div.sk-parallel-item {display: flex;flex-direction: column;position: relative;background-color: white;}#sk-f2323004-a5b7-4290-bafa-e177d9f5b0e8 div.sk-parallel-item:first-child::after {align-self: flex-end;width: 50%;}#sk-f2323004-a5b7-4290-bafa-e177d9f5b0e8 div.sk-parallel-item:last-child::after {align-self: flex-start;width: 50%;}#sk-f2323004-a5b7-4290-bafa-e177d9f5b0e8 div.sk-parallel-item:only-child::after {width: 0;}#sk-f2323004-a5b7-4290-bafa-e177d9f5b0e8 div.sk-dashed-wrapped {border: 1px dashed gray;margin: 0.2em;box-sizing: border-box;padding-bottom: 0.1em;background-color: white;position: relative;}#sk-f2323004-a5b7-4290-bafa-e177d9f5b0e8 div.sk-label label {font-family: monospace;font-weight: bold;background-color: white;display: inline-block;line-height: 1.2em;}#sk-f2323004-a5b7-4290-bafa-e177d9f5b0e8 div.sk-label-container {position: relative;z-index: 2;text-align: center;}#sk-f2323004-a5b7-4290-bafa-e177d9f5b0e8 div.sk-container {display: inline-block;position: relative;}</style><div id=\"sk-f2323004-a5b7-4290-bafa-e177d9f5b0e8\" class\"sk-top-container\"><div class=\"sk-container\"><div class=\"sk-item\"><div class=\"sk-estimator sk-toggleable\"><input class=\"sk-toggleable__control sk-hidden--visually\" id=\"bcc0374c-3267-417e-998f-504fc3487372\" type=\"checkbox\" checked><label class=\"sk-toggleable__label\" for=\"bcc0374c-3267-417e-998f-504fc3487372\">RandomForestRegressor</label><div class=\"sk-toggleable__content\"><pre>RandomForestRegressor(n_jobs=-1, random_state=42)</pre></div></div></div></div></div>"
      ],
      "text/plain": [
       "RandomForestRegressor(n_jobs=-1, random_state=42)"
      ]
     },
     "execution_count": 143,
     "metadata": {},
     "output_type": "execute_result"
    }
   ],
   "source": [
    "model"
   ]
  },
  {
   "cell_type": "code",
   "execution_count": 145,
   "metadata": {},
   "outputs": [
    {
     "data": {
      "text/plain": [
       "{'n_estimators': [50, 100, 150], 'bootstrap': [True, False]}"
      ]
     },
     "execution_count": 145,
     "metadata": {},
     "output_type": "execute_result"
    }
   ],
   "source": [
    "params = {}\n",
    "params['n_estimators'] = [50, 100, 150]\n",
    "params['bootstrap'] = [True, False]\n",
    "params"
   ]
  },
  {
   "cell_type": "code",
   "execution_count": 146,
   "metadata": {},
   "outputs": [],
   "source": [
    "rnd_search = RandomizedSearchCV(estimator=model, param_distributions=params,\n",
    "                                n_iter=100, cv=5, scoring='neg_mean_squared_error',\n",
    "                                verbose=2, random_state=42, return_train_score=True,\n",
    "                                n_jobs=-1)"
   ]
  },
  {
   "cell_type": "code",
   "execution_count": 147,
   "metadata": {},
   "outputs": [
    {
     "name": "stderr",
     "output_type": "stream",
     "text": [
      "C:\\Users\\Quentin\\anaconda3\\lib\\site-packages\\sklearn\\model_selection\\_search.py:285: UserWarning: The total space of parameters 6 is smaller than n_iter=100. Running 6 iterations. For exhaustive searches, use GridSearchCV.\n",
      "  warnings.warn(\n"
     ]
    },
    {
     "name": "stdout",
     "output_type": "stream",
     "text": [
      "Fitting 5 folds for each of 6 candidates, totalling 30 fits\n",
      "Wall time: 33.2 s\n"
     ]
    },
    {
     "data": {
      "text/html": [
       "<style>#sk-8d9dfe0f-bbc7-4b9e-a6eb-b5d70c71590a {color: black;background-color: white;}#sk-8d9dfe0f-bbc7-4b9e-a6eb-b5d70c71590a pre{padding: 0;}#sk-8d9dfe0f-bbc7-4b9e-a6eb-b5d70c71590a div.sk-toggleable {background-color: white;}#sk-8d9dfe0f-bbc7-4b9e-a6eb-b5d70c71590a label.sk-toggleable__label {cursor: pointer;display: block;width: 100%;margin-bottom: 0;padding: 0.2em 0.3em;box-sizing: border-box;text-align: center;}#sk-8d9dfe0f-bbc7-4b9e-a6eb-b5d70c71590a div.sk-toggleable__content {max-height: 0;max-width: 0;overflow: hidden;text-align: left;background-color: #f0f8ff;}#sk-8d9dfe0f-bbc7-4b9e-a6eb-b5d70c71590a div.sk-toggleable__content pre {margin: 0.2em;color: black;border-radius: 0.25em;background-color: #f0f8ff;}#sk-8d9dfe0f-bbc7-4b9e-a6eb-b5d70c71590a input.sk-toggleable__control:checked~div.sk-toggleable__content {max-height: 200px;max-width: 100%;overflow: auto;}#sk-8d9dfe0f-bbc7-4b9e-a6eb-b5d70c71590a div.sk-estimator input.sk-toggleable__control:checked~label.sk-toggleable__label {background-color: #d4ebff;}#sk-8d9dfe0f-bbc7-4b9e-a6eb-b5d70c71590a div.sk-label input.sk-toggleable__control:checked~label.sk-toggleable__label {background-color: #d4ebff;}#sk-8d9dfe0f-bbc7-4b9e-a6eb-b5d70c71590a input.sk-hidden--visually {border: 0;clip: rect(1px 1px 1px 1px);clip: rect(1px, 1px, 1px, 1px);height: 1px;margin: -1px;overflow: hidden;padding: 0;position: absolute;width: 1px;}#sk-8d9dfe0f-bbc7-4b9e-a6eb-b5d70c71590a div.sk-estimator {font-family: monospace;background-color: #f0f8ff;margin: 0.25em 0.25em;border: 1px dotted black;border-radius: 0.25em;box-sizing: border-box;}#sk-8d9dfe0f-bbc7-4b9e-a6eb-b5d70c71590a div.sk-estimator:hover {background-color: #d4ebff;}#sk-8d9dfe0f-bbc7-4b9e-a6eb-b5d70c71590a div.sk-parallel-item::after {content: \"\";width: 100%;border-bottom: 1px solid gray;flex-grow: 1;}#sk-8d9dfe0f-bbc7-4b9e-a6eb-b5d70c71590a div.sk-label:hover label.sk-toggleable__label {background-color: #d4ebff;}#sk-8d9dfe0f-bbc7-4b9e-a6eb-b5d70c71590a div.sk-serial::before {content: \"\";position: absolute;border-left: 1px solid gray;box-sizing: border-box;top: 2em;bottom: 0;left: 50%;}#sk-8d9dfe0f-bbc7-4b9e-a6eb-b5d70c71590a div.sk-serial {display: flex;flex-direction: column;align-items: center;background-color: white;}#sk-8d9dfe0f-bbc7-4b9e-a6eb-b5d70c71590a div.sk-item {z-index: 1;}#sk-8d9dfe0f-bbc7-4b9e-a6eb-b5d70c71590a div.sk-parallel {display: flex;align-items: stretch;justify-content: center;background-color: white;}#sk-8d9dfe0f-bbc7-4b9e-a6eb-b5d70c71590a div.sk-parallel-item {display: flex;flex-direction: column;position: relative;background-color: white;}#sk-8d9dfe0f-bbc7-4b9e-a6eb-b5d70c71590a div.sk-parallel-item:first-child::after {align-self: flex-end;width: 50%;}#sk-8d9dfe0f-bbc7-4b9e-a6eb-b5d70c71590a div.sk-parallel-item:last-child::after {align-self: flex-start;width: 50%;}#sk-8d9dfe0f-bbc7-4b9e-a6eb-b5d70c71590a div.sk-parallel-item:only-child::after {width: 0;}#sk-8d9dfe0f-bbc7-4b9e-a6eb-b5d70c71590a div.sk-dashed-wrapped {border: 1px dashed gray;margin: 0.2em;box-sizing: border-box;padding-bottom: 0.1em;background-color: white;position: relative;}#sk-8d9dfe0f-bbc7-4b9e-a6eb-b5d70c71590a div.sk-label label {font-family: monospace;font-weight: bold;background-color: white;display: inline-block;line-height: 1.2em;}#sk-8d9dfe0f-bbc7-4b9e-a6eb-b5d70c71590a div.sk-label-container {position: relative;z-index: 2;text-align: center;}#sk-8d9dfe0f-bbc7-4b9e-a6eb-b5d70c71590a div.sk-container {display: inline-block;position: relative;}</style><div id=\"sk-8d9dfe0f-bbc7-4b9e-a6eb-b5d70c71590a\" class\"sk-top-container\"><div class=\"sk-container\"><div class=\"sk-item sk-dashed-wrapped\"><div class=\"sk-label-container\"><div class=\"sk-label sk-toggleable\"><input class=\"sk-toggleable__control sk-hidden--visually\" id=\"6b719540-37a3-4dde-ba5a-e89da330ff20\" type=\"checkbox\" ><label class=\"sk-toggleable__label\" for=\"6b719540-37a3-4dde-ba5a-e89da330ff20\">RandomizedSearchCV</label><div class=\"sk-toggleable__content\"><pre>RandomizedSearchCV(cv=5,\n",
       "                   estimator=RandomForestRegressor(n_jobs=-1, random_state=42),\n",
       "                   n_iter=100, n_jobs=-1,\n",
       "                   param_distributions={'bootstrap': [True, False],\n",
       "                                        'n_estimators': [50, 100, 150]},\n",
       "                   random_state=42, return_train_score=True,\n",
       "                   scoring='neg_mean_squared_error', verbose=2)</pre></div></div></div><div class=\"sk-parallel\"><div class=\"sk-parallel-item\"><div class=\"sk-item\"><div class=\"sk-serial\"><div class=\"sk-item\"><div class=\"sk-estimator sk-toggleable\"><input class=\"sk-toggleable__control sk-hidden--visually\" id=\"3e9574e4-9e1c-4613-95b4-00b323ee307a\" type=\"checkbox\" ><label class=\"sk-toggleable__label\" for=\"3e9574e4-9e1c-4613-95b4-00b323ee307a\">RandomForestRegressor</label><div class=\"sk-toggleable__content\"><pre>RandomForestRegressor(n_jobs=-1, random_state=42)</pre></div></div></div></div></div></div></div></div></div></div>"
      ],
      "text/plain": [
       "RandomizedSearchCV(cv=5,\n",
       "                   estimator=RandomForestRegressor(n_jobs=-1, random_state=42),\n",
       "                   n_iter=100, n_jobs=-1,\n",
       "                   param_distributions={'bootstrap': [True, False],\n",
       "                                        'n_estimators': [50, 100, 150]},\n",
       "                   random_state=42, return_train_score=True,\n",
       "                   scoring='neg_mean_squared_error', verbose=2)"
      ]
     },
     "execution_count": 147,
     "metadata": {},
     "output_type": "execute_result"
    }
   ],
   "source": [
    "%time rnd_search.fit(X_train_prepared, y_train)"
   ]
  },
  {
   "cell_type": "code",
   "execution_count": 148,
   "metadata": {},
   "outputs": [
    {
     "data": {
      "text/plain": [
       "{'n_estimators': 100, 'bootstrap': True}"
      ]
     },
     "execution_count": 148,
     "metadata": {},
     "output_type": "execute_result"
    }
   ],
   "source": [
    "rnd_search.best_params_"
   ]
  },
  {
   "cell_type": "code",
   "execution_count": 149,
   "metadata": {},
   "outputs": [
    {
     "data": {
      "text/html": [
       "<style>#sk-b95e446d-e5a0-411e-b702-bb12158d77ec {color: black;background-color: white;}#sk-b95e446d-e5a0-411e-b702-bb12158d77ec pre{padding: 0;}#sk-b95e446d-e5a0-411e-b702-bb12158d77ec div.sk-toggleable {background-color: white;}#sk-b95e446d-e5a0-411e-b702-bb12158d77ec label.sk-toggleable__label {cursor: pointer;display: block;width: 100%;margin-bottom: 0;padding: 0.2em 0.3em;box-sizing: border-box;text-align: center;}#sk-b95e446d-e5a0-411e-b702-bb12158d77ec div.sk-toggleable__content {max-height: 0;max-width: 0;overflow: hidden;text-align: left;background-color: #f0f8ff;}#sk-b95e446d-e5a0-411e-b702-bb12158d77ec div.sk-toggleable__content pre {margin: 0.2em;color: black;border-radius: 0.25em;background-color: #f0f8ff;}#sk-b95e446d-e5a0-411e-b702-bb12158d77ec input.sk-toggleable__control:checked~div.sk-toggleable__content {max-height: 200px;max-width: 100%;overflow: auto;}#sk-b95e446d-e5a0-411e-b702-bb12158d77ec div.sk-estimator input.sk-toggleable__control:checked~label.sk-toggleable__label {background-color: #d4ebff;}#sk-b95e446d-e5a0-411e-b702-bb12158d77ec div.sk-label input.sk-toggleable__control:checked~label.sk-toggleable__label {background-color: #d4ebff;}#sk-b95e446d-e5a0-411e-b702-bb12158d77ec input.sk-hidden--visually {border: 0;clip: rect(1px 1px 1px 1px);clip: rect(1px, 1px, 1px, 1px);height: 1px;margin: -1px;overflow: hidden;padding: 0;position: absolute;width: 1px;}#sk-b95e446d-e5a0-411e-b702-bb12158d77ec div.sk-estimator {font-family: monospace;background-color: #f0f8ff;margin: 0.25em 0.25em;border: 1px dotted black;border-radius: 0.25em;box-sizing: border-box;}#sk-b95e446d-e5a0-411e-b702-bb12158d77ec div.sk-estimator:hover {background-color: #d4ebff;}#sk-b95e446d-e5a0-411e-b702-bb12158d77ec div.sk-parallel-item::after {content: \"\";width: 100%;border-bottom: 1px solid gray;flex-grow: 1;}#sk-b95e446d-e5a0-411e-b702-bb12158d77ec div.sk-label:hover label.sk-toggleable__label {background-color: #d4ebff;}#sk-b95e446d-e5a0-411e-b702-bb12158d77ec div.sk-serial::before {content: \"\";position: absolute;border-left: 1px solid gray;box-sizing: border-box;top: 2em;bottom: 0;left: 50%;}#sk-b95e446d-e5a0-411e-b702-bb12158d77ec div.sk-serial {display: flex;flex-direction: column;align-items: center;background-color: white;}#sk-b95e446d-e5a0-411e-b702-bb12158d77ec div.sk-item {z-index: 1;}#sk-b95e446d-e5a0-411e-b702-bb12158d77ec div.sk-parallel {display: flex;align-items: stretch;justify-content: center;background-color: white;}#sk-b95e446d-e5a0-411e-b702-bb12158d77ec div.sk-parallel-item {display: flex;flex-direction: column;position: relative;background-color: white;}#sk-b95e446d-e5a0-411e-b702-bb12158d77ec div.sk-parallel-item:first-child::after {align-self: flex-end;width: 50%;}#sk-b95e446d-e5a0-411e-b702-bb12158d77ec div.sk-parallel-item:last-child::after {align-self: flex-start;width: 50%;}#sk-b95e446d-e5a0-411e-b702-bb12158d77ec div.sk-parallel-item:only-child::after {width: 0;}#sk-b95e446d-e5a0-411e-b702-bb12158d77ec div.sk-dashed-wrapped {border: 1px dashed gray;margin: 0.2em;box-sizing: border-box;padding-bottom: 0.1em;background-color: white;position: relative;}#sk-b95e446d-e5a0-411e-b702-bb12158d77ec div.sk-label label {font-family: monospace;font-weight: bold;background-color: white;display: inline-block;line-height: 1.2em;}#sk-b95e446d-e5a0-411e-b702-bb12158d77ec div.sk-label-container {position: relative;z-index: 2;text-align: center;}#sk-b95e446d-e5a0-411e-b702-bb12158d77ec div.sk-container {display: inline-block;position: relative;}</style><div id=\"sk-b95e446d-e5a0-411e-b702-bb12158d77ec\" class\"sk-top-container\"><div class=\"sk-container\"><div class=\"sk-item\"><div class=\"sk-estimator sk-toggleable\"><input class=\"sk-toggleable__control sk-hidden--visually\" id=\"e28b6ee3-4d79-4120-8dbc-9070e63e3389\" type=\"checkbox\" checked><label class=\"sk-toggleable__label\" for=\"e28b6ee3-4d79-4120-8dbc-9070e63e3389\">RandomForestRegressor</label><div class=\"sk-toggleable__content\"><pre>RandomForestRegressor(n_jobs=-1, random_state=42)</pre></div></div></div></div></div>"
      ],
      "text/plain": [
       "RandomForestRegressor(n_jobs=-1, random_state=42)"
      ]
     },
     "execution_count": 149,
     "metadata": {},
     "output_type": "execute_result"
    }
   ],
   "source": [
    "best_model = rnd_search.best_estimator_\n",
    "best_model"
   ]
  },
  {
   "cell_type": "code",
   "execution_count": 182,
   "metadata": {},
   "outputs": [],
   "source": [
    "cvres = rnd_search.cv_results_\n",
    "rmse = np.sqrt(-pd.DataFrame(cvres)['mean_test_score'].values)\n",
    "std = rmse.std()"
   ]
  },
  {
   "cell_type": "code",
   "execution_count": 184,
   "metadata": {},
   "outputs": [
    {
     "name": "stdout",
     "output_type": "stream",
     "text": [
      "RMSE : [21.43227112 21.28432501 21.60954603 22.23724645 22.16464012 22.17827683]\n",
      "Ecart-type: 0.38789489376748254\n"
     ]
    }
   ],
   "source": [
    "print(\"RMSE :\", rmse)\n",
    "print(\"Ecart-type:\", std)"
   ]
  },
  {
   "cell_type": "code",
   "execution_count": 163,
   "metadata": {},
   "outputs": [],
   "source": [
    "cvres_sample = pd.DataFrame({\n",
    "    'mean_train_score': np.sqrt(-cvres['mean_train_score']),\n",
    "    'mean_test_score': np.sqrt(-cvres['mean_test_score']),\n",
    "    'params': cvres['params']})\n",
    "cvres_sample = cvres_sample.sort_values('mean_test_score', \n",
    "                                        ascending=True).reset_index(drop=True)"
   ]
  },
  {
   "cell_type": "code",
   "execution_count": 164,
   "metadata": {},
   "outputs": [
    {
     "data": {
      "text/html": [
       "<div>\n",
       "<style scoped>\n",
       "    .dataframe tbody tr th:only-of-type {\n",
       "        vertical-align: middle;\n",
       "    }\n",
       "\n",
       "    .dataframe tbody tr th {\n",
       "        vertical-align: top;\n",
       "    }\n",
       "\n",
       "    .dataframe thead th {\n",
       "        text-align: right;\n",
       "    }\n",
       "</style>\n",
       "<table border=\"1\" class=\"dataframe\">\n",
       "  <thead>\n",
       "    <tr style=\"text-align: right;\">\n",
       "      <th></th>\n",
       "      <th>mean_train_score</th>\n",
       "      <th>mean_test_score</th>\n",
       "      <th>params</th>\n",
       "    </tr>\n",
       "  </thead>\n",
       "  <tbody>\n",
       "    <tr>\n",
       "      <th>0</th>\n",
       "      <td>7.556440e+00</td>\n",
       "      <td>21.284325</td>\n",
       "      <td>{'n_estimators': 100, 'bootstrap': True}</td>\n",
       "    </tr>\n",
       "    <tr>\n",
       "      <th>1</th>\n",
       "      <td>7.977051e+00</td>\n",
       "      <td>21.432271</td>\n",
       "      <td>{'n_estimators': 50, 'bootstrap': True}</td>\n",
       "    </tr>\n",
       "    <tr>\n",
       "      <th>2</th>\n",
       "      <td>7.637049e+00</td>\n",
       "      <td>21.609546</td>\n",
       "      <td>{'n_estimators': 150, 'bootstrap': True}</td>\n",
       "    </tr>\n",
       "    <tr>\n",
       "      <th>3</th>\n",
       "      <td>2.341515e-13</td>\n",
       "      <td>22.164640</td>\n",
       "      <td>{'n_estimators': 100, 'bootstrap': False}</td>\n",
       "    </tr>\n",
       "    <tr>\n",
       "      <th>4</th>\n",
       "      <td>3.431909e-13</td>\n",
       "      <td>22.178277</td>\n",
       "      <td>{'n_estimators': 150, 'bootstrap': False}</td>\n",
       "    </tr>\n",
       "    <tr>\n",
       "      <th>5</th>\n",
       "      <td>1.113013e-13</td>\n",
       "      <td>22.237246</td>\n",
       "      <td>{'n_estimators': 50, 'bootstrap': False}</td>\n",
       "    </tr>\n",
       "  </tbody>\n",
       "</table>\n",
       "</div>"
      ],
      "text/plain": [
       "   mean_train_score  mean_test_score  \\\n",
       "0      7.556440e+00        21.284325   \n",
       "1      7.977051e+00        21.432271   \n",
       "2      7.637049e+00        21.609546   \n",
       "3      2.341515e-13        22.164640   \n",
       "4      3.431909e-13        22.178277   \n",
       "5      1.113013e-13        22.237246   \n",
       "\n",
       "                                      params  \n",
       "0   {'n_estimators': 100, 'bootstrap': True}  \n",
       "1    {'n_estimators': 50, 'bootstrap': True}  \n",
       "2   {'n_estimators': 150, 'bootstrap': True}  \n",
       "3  {'n_estimators': 100, 'bootstrap': False}  \n",
       "4  {'n_estimators': 150, 'bootstrap': False}  \n",
       "5   {'n_estimators': 50, 'bootstrap': False}  "
      ]
     },
     "execution_count": 164,
     "metadata": {},
     "output_type": "execute_result"
    }
   ],
   "source": [
    "cvres_sample"
   ]
  },
  {
   "cell_type": "code",
   "execution_count": 157,
   "metadata": {},
   "outputs": [
    {
     "data": {
      "image/png": "[encoded data removed]",
      "text/plain": [
       "<Figure size 432x288 with 1 Axes>"
      ]
     },
     "metadata": {
      "needs_background": "light"
     },
     "output_type": "display_data"
    }
   ],
   "source": [
    "y_pred = cross_val_predict(best_model, X_train_prepared, y_train, cv=5)\n",
    "plt.scatter(y_train, y_pred, alpha=0.5)\n",
    "plt.plot(np.linspace(0, 1_400), np.linspace(0, 1_400), c='red')\n",
    "plt.xlabel(\"valeurs réelles\", fontsize=15)\n",
    "plt.ylabel(\"valeurs prédites\", fontsize=15)\n",
    "plt.show()"
   ]
  },
  {
   "cell_type": "code",
   "execution_count": 187,
   "metadata": {},
   "outputs": [
    {
     "data": {
      "text/html": [
       "<div>\n",
       "<style scoped>\n",
       "    .dataframe tbody tr th:only-of-type {\n",
       "        vertical-align: middle;\n",
       "    }\n",
       "\n",
       "    .dataframe tbody tr th {\n",
       "        vertical-align: top;\n",
       "    }\n",
       "\n",
       "    .dataframe thead th {\n",
       "        text-align: right;\n",
       "    }\n",
       "</style>\n",
       "<table border=\"1\" class=\"dataframe\">\n",
       "  <thead>\n",
       "    <tr style=\"text-align: right;\">\n",
       "      <th></th>\n",
       "      <th>MDI</th>\n",
       "      <th>variable</th>\n",
       "    </tr>\n",
       "  </thead>\n",
       "  <tbody>\n",
       "    <tr>\n",
       "      <th>0</th>\n",
       "      <td>0.596203</td>\n",
       "      <td>0</td>\n",
       "    </tr>\n",
       "    <tr>\n",
       "      <th>1</th>\n",
       "      <td>0.296153</td>\n",
       "      <td>1</td>\n",
       "    </tr>\n",
       "    <tr>\n",
       "      <th>2</th>\n",
       "      <td>0.085071</td>\n",
       "      <td>4</td>\n",
       "    </tr>\n",
       "    <tr>\n",
       "      <th>3</th>\n",
       "      <td>0.007762</td>\n",
       "      <td>5</td>\n",
       "    </tr>\n",
       "    <tr>\n",
       "      <th>4</th>\n",
       "      <td>0.005451</td>\n",
       "      <td>2</td>\n",
       "    </tr>\n",
       "    <tr>\n",
       "      <th>5</th>\n",
       "      <td>0.004190</td>\n",
       "      <td>7</td>\n",
       "    </tr>\n",
       "    <tr>\n",
       "      <th>6</th>\n",
       "      <td>0.002638</td>\n",
       "      <td>6</td>\n",
       "    </tr>\n",
       "    <tr>\n",
       "      <th>7</th>\n",
       "      <td>0.002532</td>\n",
       "      <td>3</td>\n",
       "    </tr>\n",
       "  </tbody>\n",
       "</table>\n",
       "</div>"
      ],
      "text/plain": [
       "        MDI  variable\n",
       "0  0.596203         0\n",
       "1  0.296153         1\n",
       "2  0.085071         4\n",
       "3  0.007762         5\n",
       "4  0.005451         2\n",
       "5  0.004190         7\n",
       "6  0.002638         6\n",
       "7  0.002532         3"
      ]
     },
     "execution_count": 187,
     "metadata": {},
     "output_type": "execute_result"
    }
   ],
   "source": [
    "feature_importances = best_model.feature_importances_\n",
    "feature_imp_df = pd.DataFrame(\n",
    "    sorted(zip(feature_importances, range(len(feature_importances))), reverse=True),\n",
    "    columns=['MDI', 'variable']\n",
    "    )\n",
    "feature_imp_df"
   ]
  }
 ],
 "metadata": {
  "kernelspec": {
   "display_name": "Python 3 (ipykernel)",
   "language": "python",
   "name": "python3"
  },
  "language_info": {
   "codemirror_mode": {
    "name": "ipython",
    "version": 3
   },
   "file_extension": ".py",
   "mimetype": "text/x-python",
   "name": "python",
   "nbconvert_exporter": "python",
   "pygments_lexer": "ipython3",
   "version": "3.8.5"
  }
 },
 "nbformat": 4,
 "nbformat_minor": 4
}
